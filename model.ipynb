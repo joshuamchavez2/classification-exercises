{
 "cells": [
  {
   "cell_type": "code",
   "execution_count": 1,
   "id": "97942868",
   "metadata": {},
   "outputs": [],
   "source": [
    "from math import sqrt\n",
    "from scipy import stats\n",
    "import matplotlib.pyplot as plt\n",
    "import numpy as np\n",
    "import pandas as pd\n",
    "import seaborn as sns\n",
    "from pydataset import data\n",
    "import statistics\n",
    "import acquire\n",
    "import prepare\n",
    "\n",
    "from sklearn.model_selection import train_test_split\n",
    "from sklearn.tree import DecisionTreeClassifier\n",
    "from sklearn.tree import export_graphviz\n",
    "from sklearn.metrics import classification_report\n",
    "from sklearn.metrics import confusion_matrix\n",
    "from sklearn.ensemble import RandomForestClassifier\n",
    "from sklearn.neighbors import KNeighborsClassifier\n",
    "from sklearn.linear_model import LogisticRegression\n",
    "\n",
    "import explore\n",
    "import warnings\n",
    "warnings.filterwarnings(\"ignore\")\n",
    "\n",
    "import graphviz\n",
    "from graphviz import Graph"
   ]
  },
  {
   "cell_type": "markdown",
   "id": "1c98c69a",
   "metadata": {},
   "source": [
    "### Using the titanic data, in your classification-exercises repository, create a notebook, model.ipynb where you will do the following:"
   ]
  },
  {
   "cell_type": "code",
   "execution_count": 204,
   "id": "c902a9cc",
   "metadata": {},
   "outputs": [],
   "source": [
    "train, validate, test = prepare.prep_titanic_data(acquire.get_titanic_data())"
   ]
  },
  {
   "cell_type": "code",
   "execution_count": 205,
   "id": "1fe8bea6",
   "metadata": {
    "scrolled": true
   },
   "outputs": [
    {
     "data": {
      "text/html": [
       "<div>\n",
       "<style scoped>\n",
       "    .dataframe tbody tr th:only-of-type {\n",
       "        vertical-align: middle;\n",
       "    }\n",
       "\n",
       "    .dataframe tbody tr th {\n",
       "        vertical-align: top;\n",
       "    }\n",
       "\n",
       "    .dataframe thead th {\n",
       "        text-align: right;\n",
       "    }\n",
       "</style>\n",
       "<table border=\"1\" class=\"dataframe\">\n",
       "  <thead>\n",
       "    <tr style=\"text-align: right;\">\n",
       "      <th></th>\n",
       "      <th>survived</th>\n",
       "      <th>pclass</th>\n",
       "      <th>age</th>\n",
       "      <th>sibsp</th>\n",
       "      <th>parch</th>\n",
       "      <th>fare</th>\n",
       "      <th>alone</th>\n",
       "      <th>sex_male</th>\n",
       "      <th>embark_town_Cherbourg</th>\n",
       "      <th>embark_town_Queenstown</th>\n",
       "      <th>embark_town_Southampton</th>\n",
       "    </tr>\n",
       "  </thead>\n",
       "  <tbody>\n",
       "    <tr>\n",
       "      <th>455</th>\n",
       "      <td>1</td>\n",
       "      <td>3</td>\n",
       "      <td>29.0</td>\n",
       "      <td>0</td>\n",
       "      <td>0</td>\n",
       "      <td>7.8958</td>\n",
       "      <td>1</td>\n",
       "      <td>1</td>\n",
       "      <td>1</td>\n",
       "      <td>0</td>\n",
       "      <td>0</td>\n",
       "    </tr>\n",
       "    <tr>\n",
       "      <th>380</th>\n",
       "      <td>1</td>\n",
       "      <td>1</td>\n",
       "      <td>42.0</td>\n",
       "      <td>0</td>\n",
       "      <td>0</td>\n",
       "      <td>227.5250</td>\n",
       "      <td>1</td>\n",
       "      <td>0</td>\n",
       "      <td>1</td>\n",
       "      <td>0</td>\n",
       "      <td>0</td>\n",
       "    </tr>\n",
       "    <tr>\n",
       "      <th>492</th>\n",
       "      <td>0</td>\n",
       "      <td>1</td>\n",
       "      <td>55.0</td>\n",
       "      <td>0</td>\n",
       "      <td>0</td>\n",
       "      <td>30.5000</td>\n",
       "      <td>1</td>\n",
       "      <td>1</td>\n",
       "      <td>0</td>\n",
       "      <td>0</td>\n",
       "      <td>1</td>\n",
       "    </tr>\n",
       "  </tbody>\n",
       "</table>\n",
       "</div>"
      ],
      "text/plain": [
       "     survived  pclass   age  sibsp  parch      fare  alone  sex_male  \\\n",
       "455         1       3  29.0      0      0    7.8958      1         1   \n",
       "380         1       1  42.0      0      0  227.5250      1         0   \n",
       "492         0       1  55.0      0      0   30.5000      1         1   \n",
       "\n",
       "     embark_town_Cherbourg  embark_town_Queenstown  embark_town_Southampton  \n",
       "455                      1                       0                        0  \n",
       "380                      1                       0                        0  \n",
       "492                      0                       0                        1  "
      ]
     },
     "execution_count": 205,
     "metadata": {},
     "output_type": "execute_result"
    }
   ],
   "source": [
    "train.head(3)"
   ]
  },
  {
   "cell_type": "markdown",
   "id": "15aeaed3",
   "metadata": {},
   "source": [
    "### What is your baseline prediction?\n",
    "### What is your baseline accuracy? remember: your baseline prediction for a classification problem is predicting the most prevelant class in the training dataset (the mode)."
   ]
  },
  {
   "cell_type": "code",
   "execution_count": 206,
   "id": "9275d631",
   "metadata": {},
   "outputs": [],
   "source": [
    "#train.survived.value_counts()"
   ]
  },
  {
   "cell_type": "code",
   "execution_count": 207,
   "id": "073c443e",
   "metadata": {},
   "outputs": [],
   "source": [
    "#train[\"baseline\"] = 0"
   ]
  },
  {
   "cell_type": "code",
   "execution_count": 208,
   "id": "47bc04bb",
   "metadata": {},
   "outputs": [],
   "source": [
    "#(train.survived==train.baseline).mean()"
   ]
  },
  {
   "cell_type": "markdown",
   "id": "9b7e14ae",
   "metadata": {},
   "source": [
    "Baseline Model is .616"
   ]
  },
  {
   "cell_type": "markdown",
   "id": "ae093d7f",
   "metadata": {},
   "source": [
    "### When you make those predictions, what is your accuracy? This is your baseline accuracy.\n",
    "    61% and yes this is my basline accuracy assuming no survivers "
   ]
  },
  {
   "cell_type": "markdown",
   "id": "1ab605da",
   "metadata": {},
   "source": [
    "### Fit the decision tree classifier to your training sample and transform (i.e. make predictions on the training sample)"
   ]
  },
  {
   "cell_type": "code",
   "execution_count": null,
   "id": "a28dfa84",
   "metadata": {},
   "outputs": [],
   "source": []
  },
  {
   "cell_type": "code",
   "execution_count": 209,
   "id": "bfea64bb",
   "metadata": {},
   "outputs": [
    {
     "name": "stdout",
     "output_type": "stream",
     "text": [
      "<class 'pandas.core.frame.DataFrame'>\n",
      "Int64Index: 534 entries, 455 to 496\n",
      "Data columns (total 11 columns):\n",
      " #   Column                   Non-Null Count  Dtype  \n",
      "---  ------                   --------------  -----  \n",
      " 0   survived                 534 non-null    int64  \n",
      " 1   pclass                   534 non-null    int64  \n",
      " 2   age                      534 non-null    float64\n",
      " 3   sibsp                    534 non-null    int64  \n",
      " 4   parch                    534 non-null    int64  \n",
      " 5   fare                     534 non-null    float64\n",
      " 6   alone                    534 non-null    int64  \n",
      " 7   sex_male                 534 non-null    uint8  \n",
      " 8   embark_town_Cherbourg    534 non-null    uint8  \n",
      " 9   embark_town_Queenstown   534 non-null    uint8  \n",
      " 10  embark_town_Southampton  534 non-null    uint8  \n",
      "dtypes: float64(2), int64(5), uint8(4)\n",
      "memory usage: 35.5 KB\n"
     ]
    }
   ],
   "source": [
    "train.info()"
   ]
  },
  {
   "cell_type": "code",
   "execution_count": 210,
   "id": "c9ec8452",
   "metadata": {},
   "outputs": [],
   "source": [
    "# create X & y version of train, where y is a series with just the target variable and X are all the features. \n",
    "\n",
    "X_train = train.drop(columns=['survived'])\n",
    "y_train = train.survived\n",
    "\n",
    "X_validate = validate.drop(columns=['survived'])\n",
    "y_validate = validate.survived\n",
    "\n",
    "X_test = test.drop(columns=['survived'])\n",
    "y_test = test.survived"
   ]
  },
  {
   "cell_type": "code",
   "execution_count": 211,
   "id": "857544ae",
   "metadata": {},
   "outputs": [],
   "source": [
    "clf = DecisionTreeClassifier(max_depth=3, random_state=123)"
   ]
  },
  {
   "cell_type": "code",
   "execution_count": 212,
   "id": "94bf9553",
   "metadata": {},
   "outputs": [
    {
     "data": {
      "text/plain": [
       "10"
      ]
     },
     "execution_count": 212,
     "metadata": {},
     "output_type": "execute_result"
    }
   ],
   "source": [
    "len(X_train.columns)"
   ]
  },
  {
   "cell_type": "code",
   "execution_count": 213,
   "id": "ac67700c",
   "metadata": {},
   "outputs": [],
   "source": [
    "clf = clf.fit(X_train, y_train)"
   ]
  },
  {
   "cell_type": "code",
   "execution_count": 214,
   "id": "699ea4e9",
   "metadata": {},
   "outputs": [
    {
     "data": {
      "text/plain": [
       "array([0, 1, 0, 0, 0])"
      ]
     },
     "execution_count": 214,
     "metadata": {},
     "output_type": "execute_result"
    }
   ],
   "source": [
    "y_pred = clf.predict(X_train)\n",
    "y_pred[0:5]"
   ]
  },
  {
   "cell_type": "code",
   "execution_count": 215,
   "id": "1f1654c1",
   "metadata": {},
   "outputs": [
    {
     "data": {
      "text/plain": [
       "array([[0.90410959, 0.09589041],\n",
       "       [0.03092784, 0.96907216],\n",
       "       [0.69105691, 0.30894309],\n",
       "       [0.69105691, 0.30894309],\n",
       "       [0.90410959, 0.09589041]])"
      ]
     },
     "execution_count": 215,
     "metadata": {},
     "output_type": "execute_result"
    }
   ],
   "source": [
    "y_pred_proba = clf.predict_proba(X_train)\n",
    "y_pred_proba[0:5]"
   ]
  },
  {
   "cell_type": "markdown",
   "id": "78ffc798",
   "metadata": {},
   "source": [
    "### Evaluate your in-sample results using the model score, confusion matrix, and classification report."
   ]
  },
  {
   "cell_type": "code",
   "execution_count": 216,
   "id": "9cd501c2",
   "metadata": {},
   "outputs": [
    {
     "name": "stdout",
     "output_type": "stream",
     "text": [
      "Accuracy of Decision Tree classifier on training set: 0.83\n"
     ]
    }
   ],
   "source": [
    "print('Accuracy of Decision Tree classifier on training set: {:.2f}'\n",
    "      .format(clf.score(X_train, y_train)))"
   ]
  },
  {
   "cell_type": "code",
   "execution_count": 217,
   "id": "3f1d7f0c",
   "metadata": {},
   "outputs": [
    {
     "data": {
      "text/plain": [
       "array([[296,  33],\n",
       "       [ 60, 145]])"
      ]
     },
     "execution_count": 217,
     "metadata": {},
     "output_type": "execute_result"
    }
   ],
   "source": [
    "confusion_matrix(y_train, y_pred)"
   ]
  },
  {
   "cell_type": "code",
   "execution_count": 218,
   "id": "2537c43b",
   "metadata": {},
   "outputs": [
    {
     "data": {
      "text/plain": [
       "0    329\n",
       "1    205\n",
       "Name: survived, dtype: int64"
      ]
     },
     "execution_count": 218,
     "metadata": {},
     "output_type": "execute_result"
    }
   ],
   "source": [
    "y_train.value_counts()"
   ]
  },
  {
   "cell_type": "code",
   "execution_count": 219,
   "id": "3fa67ae4",
   "metadata": {},
   "outputs": [
    {
     "data": {
      "text/html": [
       "<div>\n",
       "<style scoped>\n",
       "    .dataframe tbody tr th:only-of-type {\n",
       "        vertical-align: middle;\n",
       "    }\n",
       "\n",
       "    .dataframe tbody tr th {\n",
       "        vertical-align: top;\n",
       "    }\n",
       "\n",
       "    .dataframe thead th {\n",
       "        text-align: right;\n",
       "    }\n",
       "</style>\n",
       "<table border=\"1\" class=\"dataframe\">\n",
       "  <thead>\n",
       "    <tr style=\"text-align: right;\">\n",
       "      <th></th>\n",
       "      <th>0</th>\n",
       "      <th>1</th>\n",
       "    </tr>\n",
       "  </thead>\n",
       "  <tbody>\n",
       "    <tr>\n",
       "      <th>0</th>\n",
       "      <td>296</td>\n",
       "      <td>33</td>\n",
       "    </tr>\n",
       "    <tr>\n",
       "      <th>1</th>\n",
       "      <td>60</td>\n",
       "      <td>145</td>\n",
       "    </tr>\n",
       "  </tbody>\n",
       "</table>\n",
       "</div>"
      ],
      "text/plain": [
       "     0    1\n",
       "0  296   33\n",
       "1   60  145"
      ]
     },
     "execution_count": 219,
     "metadata": {},
     "output_type": "execute_result"
    }
   ],
   "source": [
    "labels = sorted(y_train.unique())\n",
    "\n",
    "pd.DataFrame(confusion_matrix(y_train, y_pred), index=labels, columns=labels)"
   ]
  },
  {
   "cell_type": "code",
   "execution_count": 220,
   "id": "7728e508",
   "metadata": {},
   "outputs": [
    {
     "name": "stdout",
     "output_type": "stream",
     "text": [
      "              precision    recall  f1-score   support\n",
      "\n",
      "           0       0.83      0.90      0.86       329\n",
      "           1       0.81      0.71      0.76       205\n",
      "\n",
      "    accuracy                           0.83       534\n",
      "   macro avg       0.82      0.80      0.81       534\n",
      "weighted avg       0.82      0.83      0.82       534\n",
      "\n"
     ]
    }
   ],
   "source": [
    "print(classification_report(y_train, y_pred))"
   ]
  },
  {
   "cell_type": "code",
   "execution_count": 221,
   "id": "a3580a59",
   "metadata": {},
   "outputs": [
    {
     "data": {
      "text/plain": [
       "'titanic_decision_tree.pdf'"
      ]
     },
     "execution_count": 221,
     "metadata": {},
     "output_type": "execute_result"
    }
   ],
   "source": [
    "dot_data = export_graphviz(clf, feature_names= X_train.columns,class_names=['died','lived'], rounded=True, filled=True, out_file=None)\n",
    "graph = graphviz.Source(dot_data) \n",
    "\n",
    "graph.render('titanic_decision_tree', view=True)"
   ]
  },
  {
   "cell_type": "markdown",
   "id": "a7e7637a",
   "metadata": {},
   "source": [
    "# Run through steps 2-4 using a different max_depth value."
   ]
  },
  {
   "cell_type": "code",
   "execution_count": 222,
   "id": "0ff5b2cf",
   "metadata": {},
   "outputs": [],
   "source": [
    "def train_model(max_depth):\n",
    "    clf = DecisionTreeClassifier(max_depth=max_depth, random_state=123)\n",
    "    clf = clf.fit(X_train, y_train)\n",
    "    y_pred = clf.predict(X_train)\n",
    "    y_pred_proba = clf.predict_proba(X_train)\n",
    "    accuracy = clf.score(X_train, y_train)\n",
    "    #print(classification_report(y_train, y_pred))\n",
    "    return accuracy\n",
    "\n",
    "def validate_model(max_depth):\n",
    "    clf = DecisionTreeClassifier(max_depth=max_depth, random_state=123)\n",
    "    clf = clf.fit(X_train, y_train)\n",
    "    y_pred = clf.predict(X_validate)\n",
    "    y_pred_proba = clf.predict_proba(X_validate)\n",
    "    accuracy = clf.score(X_validate, y_validate)\n",
    "    return accuracy\n",
    "    #print(classification_report(y_validate, y_pred))"
   ]
  },
  {
   "cell_type": "code",
   "execution_count": 223,
   "id": "5e278c8f",
   "metadata": {},
   "outputs": [],
   "source": [
    "# for depth in range(1,7):\n",
    "#     print(f'Accuracy of Decision Tree classifier in depth: {depth}: train = {round(train_model(depth), 3)} validate = {round(validate_model(depth), 3)}')"
   ]
  },
  {
   "cell_type": "markdown",
   "id": "5198b99f",
   "metadata": {},
   "source": [
    "### Which model performs better on your in-sample data?\n",
    "    Max Depth 6 worked better in my sample data\n",
    "\n",
    "### Which model performs best on your out-of-sample data, the validate set?\n",
    "    Max Depth 2 was the closest accuracy to my train set"
   ]
  },
  {
   "cell_type": "markdown",
   "id": "d371b4d1",
   "metadata": {},
   "source": [
    "# Random Forest Exercises"
   ]
  },
  {
   "cell_type": "markdown",
   "id": "0edfcdb2",
   "metadata": {},
   "source": [
    "### Fit the Random Forest classifier to your training sample and transform (i.e. make predictions on the training sample) setting the random_state accordingly and setting min_samples_leaf = 1 and max_depth = 10."
   ]
  },
  {
   "cell_type": "code",
   "execution_count": 224,
   "id": "ac137d18",
   "metadata": {},
   "outputs": [],
   "source": [
    "rf = RandomForestClassifier(bootstrap=True, \n",
    "                            class_weight=None, \n",
    "                            criterion='gini',\n",
    "                            min_samples_leaf=1,\n",
    "                            n_estimators=100,\n",
    "                            max_depth=10, \n",
    "                            random_state=123)"
   ]
  },
  {
   "cell_type": "code",
   "execution_count": 225,
   "id": "3316d7f2",
   "metadata": {},
   "outputs": [
    {
     "data": {
      "text/plain": [
       "RandomForestClassifier(max_depth=10, random_state=123)"
      ]
     },
     "execution_count": 225,
     "metadata": {},
     "output_type": "execute_result"
    }
   ],
   "source": [
    "rf.fit(X_train, y_train)"
   ]
  },
  {
   "cell_type": "markdown",
   "id": "da933d92",
   "metadata": {},
   "source": [
    "### Evaluate your results using the model score, confusion matrix, and classification report."
   ]
  },
  {
   "cell_type": "code",
   "execution_count": 226,
   "id": "c643dab1",
   "metadata": {},
   "outputs": [
    {
     "data": {
      "text/plain": [
       "array([0, 1, 0, 1, 0])"
      ]
     },
     "execution_count": 226,
     "metadata": {},
     "output_type": "execute_result"
    }
   ],
   "source": [
    "y_pred = rf.predict(X_train)\n",
    "y_pred[0:5]"
   ]
  },
  {
   "cell_type": "code",
   "execution_count": 227,
   "id": "376c31b5",
   "metadata": {},
   "outputs": [
    {
     "data": {
      "text/plain": [
       "array([[0.52939928, 0.47060072],\n",
       "       [0.02      , 0.98      ],\n",
       "       [0.79760646, 0.20239354],\n",
       "       ...,\n",
       "       [0.8561691 , 0.1438309 ],\n",
       "       [0.77788441, 0.22211559],\n",
       "       [0.04142857, 0.95857143]])"
      ]
     },
     "execution_count": 227,
     "metadata": {},
     "output_type": "execute_result"
    }
   ],
   "source": [
    "y_pred_proba = rf.predict_proba(X_train)\n",
    "y_pred_proba"
   ]
  },
  {
   "cell_type": "code",
   "execution_count": 228,
   "id": "5291aad7",
   "metadata": {},
   "outputs": [
    {
     "name": "stdout",
     "output_type": "stream",
     "text": [
      "Accuracy of random forest classifier on training set: 0.97\n"
     ]
    }
   ],
   "source": [
    "print('Accuracy of random forest classifier on training set: {:.2f}'\n",
    "     .format(rf.score(X_train, y_train)))"
   ]
  },
  {
   "cell_type": "code",
   "execution_count": 229,
   "id": "e874a1ce",
   "metadata": {},
   "outputs": [
    {
     "name": "stdout",
     "output_type": "stream",
     "text": [
      "[[329   0]\n",
      " [ 17 188]]\n"
     ]
    }
   ],
   "source": [
    "print(confusion_matrix(y_train, y_pred))"
   ]
  },
  {
   "cell_type": "code",
   "execution_count": 230,
   "id": "3b35918b",
   "metadata": {},
   "outputs": [
    {
     "name": "stdout",
     "output_type": "stream",
     "text": [
      "              precision    recall  f1-score   support\n",
      "\n",
      "           0       0.95      1.00      0.97       329\n",
      "           1       1.00      0.92      0.96       205\n",
      "\n",
      "    accuracy                           0.97       534\n",
      "   macro avg       0.98      0.96      0.97       534\n",
      "weighted avg       0.97      0.97      0.97       534\n",
      "\n"
     ]
    }
   ],
   "source": [
    "print(classification_report(y_train, y_pred))"
   ]
  },
  {
   "cell_type": "code",
   "execution_count": 231,
   "id": "eb460942",
   "metadata": {},
   "outputs": [
    {
     "name": "stdout",
     "output_type": "stream",
     "text": [
      "Accuracy of random forest classifier on test set: 0.80\n"
     ]
    }
   ],
   "source": [
    "print('Accuracy of random forest classifier on test set: {:.2f}'\n",
    "     .format(rf.score(X_validate, y_validate)))"
   ]
  },
  {
   "cell_type": "code",
   "execution_count": 232,
   "id": "eb5f714c",
   "metadata": {},
   "outputs": [
    {
     "data": {
      "text/plain": [
       "Index(['survived', 'pclass', 'age', 'sibsp', 'parch', 'fare', 'alone',\n",
       "       'sex_male', 'embark_town_Cherbourg', 'embark_town_Queenstown',\n",
       "       'embark_town_Southampton'],\n",
       "      dtype='object')"
      ]
     },
     "execution_count": 232,
     "metadata": {},
     "output_type": "execute_result"
    }
   ],
   "source": [
    "train.columns"
   ]
  },
  {
   "cell_type": "code",
   "execution_count": 233,
   "id": "dcc0fdf8",
   "metadata": {},
   "outputs": [
    {
     "data": {
      "text/plain": [
       "array([0.0954103 , 0.21026042, 0.0494635 , 0.03437258, 0.24743484,\n",
       "       0.02083179, 0.28993623, 0.0162347 , 0.01552962, 0.02052602])"
      ]
     },
     "execution_count": 233,
     "metadata": {},
     "output_type": "execute_result"
    }
   ],
   "source": [
    "rf.feature_importances_"
   ]
  },
  {
   "cell_type": "markdown",
   "id": "af77a445",
   "metadata": {},
   "source": [
    "1. fare\n",
    "2. sex_male\n",
    "3. pclass"
   ]
  },
  {
   "cell_type": "code",
   "execution_count": 234,
   "id": "68c1c6f7",
   "metadata": {},
   "outputs": [],
   "source": [
    "def forest_train(leaf, depth):\n",
    "    rf = RandomForestClassifier(bootstrap=True, \n",
    "                            class_weight=None, \n",
    "                            criterion='gini',\n",
    "                            min_samples_leaf=leaf,\n",
    "                            n_estimators=100,\n",
    "                            max_depth=depth, \n",
    "                            random_state=123)\n",
    "    rf.fit(X_train, y_train)\n",
    "    accuracy = rf.score(X_train, y_train)\n",
    "    return round(accuracy, 3)\n",
    "\n",
    "def forest_validate(leaf, depth):\n",
    "    rf = RandomForestClassifier(bootstrap=True, \n",
    "                            class_weight=None, \n",
    "                            criterion='gini',\n",
    "                            min_samples_leaf=leaf,\n",
    "                            n_estimators=100,\n",
    "                            max_depth=depth, \n",
    "                            random_state=123)\n",
    "    rf.fit(X_train, y_train)\n",
    "    accuracy = rf.score(X_validate, y_validate)\n",
    "    return round(accuracy, 3)"
   ]
  },
  {
   "cell_type": "markdown",
   "id": "19bfc540",
   "metadata": {},
   "source": [
    "# What are the differences in the evaluation metrics? Which performs better on your in-sample data? Why?"
   ]
  },
  {
   "cell_type": "code",
   "execution_count": 250,
   "id": "da5ec391",
   "metadata": {},
   "outputs": [
    {
     "name": "stdout",
     "output_type": "stream",
     "text": [
      "Best Train Accuracy:0.8, Leaf: 1, Depth:2\n",
      "Best Train Accuracy:0.835, Leaf: 1, Depth:3\n",
      "Best Train Accuracy:0.845, Leaf: 1, Depth:4\n",
      "Best Train Accuracy:0.869, Leaf: 1, Depth:5\n",
      "Best Train Accuracy:0.893, Leaf: 1, Depth:6\n",
      "Best Train Accuracy:0.927, Leaf: 1, Depth:7\n",
      "Best Train Accuracy:0.942, Leaf: 1, Depth:8\n",
      "Best Train Accuracy:0.959, Leaf: 1, Depth:9\n",
      "Best Train Accuracy:0.968, Leaf: 1, Depth:10\n"
     ]
    }
   ],
   "source": [
    "# Searching for best Train\n",
    "for leaf in range(1,11):\n",
    "    for depth in range(1,11):\n",
    "        f_train = forest_train(leaf, depth)\n",
    "        f_validate = forest_validate(leaf, depth) # i didn't reference f_validate in this loop\n",
    "        difference = abs(f_train - f_validate) # didn't use the difference in this loop\n",
    "        score = f_train\n",
    "        if (leaf == 1) & (depth == 1):\n",
    "            best_difference = difference\n",
    "            best_leaf = leaf\n",
    "            best_depth = depth\n",
    "            best_score = score\n",
    "            \n",
    "        else:\n",
    "            if score >= best_score:\n",
    "                best_leaf = leaf\n",
    "                best_depth = depth\n",
    "                best_difference = difference\n",
    "                best_score = score\n",
    "                print(f\"Best Train Accuracy:{best_score}, Leaf: {best_leaf}, Depth:{best_depth}\")"
   ]
  },
  {
   "cell_type": "markdown",
   "id": "828cb1da",
   "metadata": {},
   "source": [
    "# After making a few models, which one has the best performance (or closest metrics) on both train and validate?"
   ]
  },
  {
   "cell_type": "code",
   "execution_count": 251,
   "id": "21442160",
   "metadata": {},
   "outputs": [
    {
     "name": "stdout",
     "output_type": "stream",
     "text": [
      "Best Validate Accuracy:0.787, Leaf: 1, Depth:2, threshold:0.013000000000000012\n",
      "Best Validate Accuracy:0.809, Leaf: 1, Depth:3, threshold:0.025999999999999912\n",
      "Best Validate Accuracy:0.815, Leaf: 1, Depth:4, threshold:0.030000000000000027\n",
      "Best Validate Accuracy:0.826, Leaf: 1, Depth:5, threshold:0.04300000000000004\n",
      "Best Validate Accuracy:0.826, Leaf: 2, Depth:5, threshold:0.04500000000000004\n",
      "Best Validate Accuracy:0.831, Leaf: 3, Depth:5, threshold:0.029000000000000026\n"
     ]
    }
   ],
   "source": [
    "# Searching for best Validate \n",
    "\n",
    "\n",
    "for leaf in range(1,11):\n",
    "    for depth in range(1,11):\n",
    "        f_train = forest_train(leaf, depth)\n",
    "        f_validate = forest_validate(leaf, depth)\n",
    "        difference = abs(f_train - f_validate)\n",
    "        score = f_validate\n",
    "        \n",
    "        if (leaf == 1) & (depth == 1):\n",
    "            best_difference = difference\n",
    "            best_leaf = leaf\n",
    "            best_depth = depth\n",
    "            best_score = score\n",
    "            \n",
    "        else:\n",
    "            if score >= best_score:\n",
    "                best_leaf = leaf\n",
    "                best_depth = depth\n",
    "                best_difference = difference\n",
    "                best_score = score\n",
    "                print(f\"Best Validate Accuracy:{best_score}, Leaf: {best_leaf}, Depth:{best_depth}, threshold:{best_difference}\")"
   ]
  },
  {
   "cell_type": "markdown",
   "id": "6bcf942b",
   "metadata": {},
   "source": [
    "    Best Validate Model was the one with 3 Leaf and Depth of 5 with an accuracy of .831 and a threshold of .029"
   ]
  },
  {
   "cell_type": "markdown",
   "id": "f66c7bc5",
   "metadata": {},
   "source": [
    "# KNN"
   ]
  },
  {
   "cell_type": "markdown",
   "id": "43a237d3",
   "metadata": {},
   "source": [
    "### Fit a K-Nearest Neighbors classifier to your training sample and transform (i.e. make predictions on the training sample)"
   ]
  },
  {
   "cell_type": "code",
   "execution_count": 34,
   "id": "e03764bb",
   "metadata": {},
   "outputs": [],
   "source": [
    "knn = KNeighborsClassifier(n_neighbors=5, weights='uniform')"
   ]
  },
  {
   "cell_type": "code",
   "execution_count": 35,
   "id": "61d3c969",
   "metadata": {},
   "outputs": [
    {
     "data": {
      "text/plain": [
       "KNeighborsClassifier()"
      ]
     },
     "execution_count": 35,
     "metadata": {},
     "output_type": "execute_result"
    }
   ],
   "source": [
    "knn.fit(X_train, y_train)"
   ]
  },
  {
   "cell_type": "code",
   "execution_count": 36,
   "id": "55420cc4",
   "metadata": {},
   "outputs": [],
   "source": [
    "y_pred = knn.predict(X_train)"
   ]
  },
  {
   "cell_type": "code",
   "execution_count": 37,
   "id": "a02d2173",
   "metadata": {},
   "outputs": [
    {
     "name": "stdout",
     "output_type": "stream",
     "text": [
      "Accuracy of KNN classifier on training set: 0.79\n"
     ]
    }
   ],
   "source": [
    "print('Accuracy of KNN classifier on training set: {:.2f}'\n",
    "     .format(knn.score(X_train, y_train)))"
   ]
  },
  {
   "cell_type": "markdown",
   "id": "cf722b7b",
   "metadata": {},
   "source": [
    "### Evaluate your results using the model score, confusion matrix, and classification report."
   ]
  },
  {
   "cell_type": "markdown",
   "id": "d9f097fb",
   "metadata": {},
   "source": [
    "    Model Score"
   ]
  },
  {
   "cell_type": "code",
   "execution_count": 38,
   "id": "5312259f",
   "metadata": {},
   "outputs": [
    {
     "name": "stdout",
     "output_type": "stream",
     "text": [
      "Accuracy of KNN classifier on training set: 0.79\n"
     ]
    }
   ],
   "source": [
    "print('Accuracy of KNN classifier on training set: {:.2f}'\n",
    "     .format(knn.score(X_train, y_train)))"
   ]
  },
  {
   "cell_type": "markdown",
   "id": "4f3bad4f",
   "metadata": {},
   "source": [
    "    Confusion Matrix"
   ]
  },
  {
   "cell_type": "code",
   "execution_count": 39,
   "id": "21e7f28b",
   "metadata": {},
   "outputs": [
    {
     "name": "stdout",
     "output_type": "stream",
     "text": [
      "[[278  51]\n",
      " [ 60 145]]\n"
     ]
    }
   ],
   "source": [
    "print(confusion_matrix(y_train, y_pred))"
   ]
  },
  {
   "cell_type": "markdown",
   "id": "98f094d6",
   "metadata": {},
   "source": [
    "    Classification Report"
   ]
  },
  {
   "cell_type": "code",
   "execution_count": 40,
   "id": "8df4eb21",
   "metadata": {},
   "outputs": [
    {
     "name": "stdout",
     "output_type": "stream",
     "text": [
      "              precision    recall  f1-score   support\n",
      "\n",
      "           0       0.82      0.84      0.83       329\n",
      "           1       0.74      0.71      0.72       205\n",
      "\n",
      "    accuracy                           0.79       534\n",
      "   macro avg       0.78      0.78      0.78       534\n",
      "weighted avg       0.79      0.79      0.79       534\n",
      "\n"
     ]
    }
   ],
   "source": [
    "print(classification_report(y_train, y_pred))"
   ]
  },
  {
   "cell_type": "markdown",
   "id": "c8425ed2",
   "metadata": {},
   "source": [
    "### Print and clearly label the following: Accuracy, true positive rate, false positive rate, true negative rate, false negative rate, precision, recall, f1-score, and support."
   ]
  },
  {
   "cell_type": "code",
   "execution_count": 41,
   "id": "009fed5c",
   "metadata": {},
   "outputs": [
    {
     "name": "stdout",
     "output_type": "stream",
     "text": [
      "                    0           1  accuracy   macro avg  weighted avg\n",
      "precision    0.822485    0.739796  0.792135    0.781141      0.790741\n",
      "recall       0.844985    0.707317  0.792135    0.776151      0.792135\n",
      "f1-score     0.833583    0.723192  0.792135    0.778388      0.791205\n",
      "support    329.000000  205.000000  0.792135  534.000000    534.000000\n",
      "\n"
     ]
    }
   ],
   "source": [
    "report = classification_report(y_train, y_pred, output_dict=True)\n",
    "print(pd.DataFrame(report))\n",
    "print()"
   ]
  },
  {
   "cell_type": "markdown",
   "id": "56a636eb",
   "metadata": {},
   "source": [
    "### Run through steps 2-4 setting k to 10"
   ]
  },
  {
   "cell_type": "code",
   "execution_count": 42,
   "id": "a1d46606",
   "metadata": {},
   "outputs": [],
   "source": [
    "def knn(k):\n",
    "    knn = KNeighborsClassifier(n_neighbors=k, weights='uniform')\n",
    "    knn.fit(X_train, y_train)\n",
    "    y_pred = knn.predict(X_train)\n",
    "    report = classification_report(y_train, y_pred, output_dict=True)\n",
    "    print(f\"K as {k}\")\n",
    "    print(pd.DataFrame(report))"
   ]
  },
  {
   "cell_type": "code",
   "execution_count": 43,
   "id": "6a914bab",
   "metadata": {},
   "outputs": [
    {
     "name": "stdout",
     "output_type": "stream",
     "text": [
      "K as 10\n",
      "                    0           1  accuracy   macro avg  weighted avg\n",
      "precision    0.745636    0.774436  0.752809    0.760036      0.756692\n",
      "recall       0.908815    0.502439  0.752809    0.705627      0.752809\n",
      "f1-score     0.819178    0.609467  0.752809    0.714323      0.738671\n",
      "support    329.000000  205.000000  0.752809  534.000000    534.000000\n"
     ]
    }
   ],
   "source": [
    "knn(10)"
   ]
  },
  {
   "cell_type": "markdown",
   "id": "08cdb38c",
   "metadata": {},
   "source": [
    "### Run through setps 2-4 setting k to 20"
   ]
  },
  {
   "cell_type": "code",
   "execution_count": 44,
   "id": "c61ec511",
   "metadata": {},
   "outputs": [
    {
     "name": "stdout",
     "output_type": "stream",
     "text": [
      "K as 20\n",
      "                    0           1  accuracy   macro avg  weighted avg\n",
      "precision    0.715663    0.731092  0.719101    0.723378      0.721586\n",
      "recall       0.902736    0.424390  0.719101    0.663563      0.719101\n",
      "f1-score     0.798387    0.537037  0.719101    0.667712      0.698056\n",
      "support    329.000000  205.000000  0.719101  534.000000    534.000000\n"
     ]
    }
   ],
   "source": [
    "knn(20)"
   ]
  },
  {
   "cell_type": "markdown",
   "id": "5b10eeb2",
   "metadata": {},
   "source": [
    "### What are the differences in the evaluation metrics? Which performs better on your in-sample data? Why?"
   ]
  },
  {
   "cell_type": "markdown",
   "id": "4193b384",
   "metadata": {},
   "source": [
    "    Accuracy is going down as you have more neighbors in the in-sample data. Probably because the calculated distance is not\n",
    "    as seperated as one might think."
   ]
  },
  {
   "cell_type": "markdown",
   "id": "181d55e1",
   "metadata": {},
   "source": [
    "### Which model performs best on our out-of-sample data from validate?"
   ]
  },
  {
   "cell_type": "code",
   "execution_count": 193,
   "id": "759ddc28",
   "metadata": {},
   "outputs": [],
   "source": [
    "def knn_validate(k):\n",
    "    knn = KNeighborsClassifier(n_neighbors=k, weights='uniform')\n",
    "    knn.fit(X_train, y_train)\n",
    "    y_pred = knn.predict(X_validate)\n",
    "    report = classification_report(y_validate, y_pred, output_dict=True)\n",
    "    print(f\"K as {k}\")\n",
    "    print(pd.DataFrame(report))"
   ]
  },
  {
   "cell_type": "code",
   "execution_count": 194,
   "id": "148af634",
   "metadata": {},
   "outputs": [
    {
     "name": "stdout",
     "output_type": "stream",
     "text": [
      "K as 5\n",
      "                    0          1  accuracy   macro avg  weighted avg\n",
      "precision    0.734513   0.584615  0.679775    0.659564      0.677249\n",
      "recall       0.754545   0.558824  0.679775    0.656684      0.679775\n",
      "f1-score     0.744395   0.571429  0.679775    0.657912      0.678318\n",
      "support    110.000000  68.000000  0.679775  178.000000    178.000000\n"
     ]
    }
   ],
   "source": [
    "knn_validate(5)"
   ]
  },
  {
   "cell_type": "code",
   "execution_count": 195,
   "id": "5d8cc342",
   "metadata": {},
   "outputs": [
    {
     "name": "stdout",
     "output_type": "stream",
     "text": [
      "K as 10\n",
      "                    0          1  accuracy   macro avg  weighted avg\n",
      "precision    0.732283   0.666667  0.713483    0.699475      0.707216\n",
      "recall       0.845455   0.500000  0.713483    0.672727      0.713483\n",
      "f1-score     0.784810   0.571429  0.713483    0.678119      0.703294\n",
      "support    110.000000  68.000000  0.713483  178.000000    178.000000\n"
     ]
    }
   ],
   "source": [
    "knn_validate(10)"
   ]
  },
  {
   "cell_type": "code",
   "execution_count": 196,
   "id": "7eb473e8",
   "metadata": {},
   "outputs": [
    {
     "name": "stdout",
     "output_type": "stream",
     "text": [
      "K as 20\n",
      "                    0          1  accuracy   macro avg  weighted avg\n",
      "precision    0.752000   0.698113  0.735955    0.725057      0.731414\n",
      "recall       0.854545   0.544118  0.735955    0.699332      0.735955\n",
      "f1-score     0.800000   0.611570  0.735955    0.705785      0.728016\n",
      "support    110.000000  68.000000  0.735955  178.000000    178.000000\n"
     ]
    }
   ],
   "source": [
    "knn_validate(20)"
   ]
  },
  {
   "cell_type": "markdown",
   "id": "214f3e93",
   "metadata": {},
   "source": [
    "    Knn where k=20 preformed the best in Validate at .735"
   ]
  },
  {
   "cell_type": "markdown",
   "id": "b51b7cd7",
   "metadata": {},
   "source": [
    "---"
   ]
  },
  {
   "cell_type": "markdown",
   "id": "f7c66731",
   "metadata": {},
   "source": [
    "# <b>Logistic Regression</b>"
   ]
  },
  {
   "cell_type": "markdown",
   "id": "a5c5e0ad",
   "metadata": {},
   "source": [
    "### For all of the models you create, choose a threshold that optimizes for accuracy."
   ]
  },
  {
   "cell_type": "code",
   "execution_count": 170,
   "id": "d7fa3835",
   "metadata": {},
   "outputs": [],
   "source": [
    "threshold = .05"
   ]
  },
  {
   "cell_type": "markdown",
   "id": "c7798d36",
   "metadata": {},
   "source": [
    "### Do your work for these exercises in either a notebook or a python script named model within your classification-exercises repository. Add, commit, and push your work."
   ]
  },
  {
   "cell_type": "markdown",
   "id": "7a3b363e",
   "metadata": {},
   "source": [
    "    Baseline"
   ]
  },
  {
   "cell_type": "code",
   "execution_count": 133,
   "id": "570b7787",
   "metadata": {},
   "outputs": [],
   "source": [
    "train, validate, test = prepare.prep_titanic_data(acquire.get_titanic_data())"
   ]
  },
  {
   "cell_type": "code",
   "execution_count": 134,
   "id": "4577ff4d",
   "metadata": {},
   "outputs": [
    {
     "data": {
      "text/plain": [
       "0    329\n",
       "1    205\n",
       "Name: survived, dtype: int64"
      ]
     },
     "execution_count": 134,
     "metadata": {},
     "output_type": "execute_result"
    }
   ],
   "source": [
    "train['survived'].value_counts()"
   ]
  },
  {
   "cell_type": "code",
   "execution_count": 135,
   "id": "314c6f59",
   "metadata": {},
   "outputs": [],
   "source": [
    "train['baseline'] = 0"
   ]
  },
  {
   "cell_type": "code",
   "execution_count": 136,
   "id": "add0e009",
   "metadata": {},
   "outputs": [
    {
     "data": {
      "text/html": [
       "<div>\n",
       "<style scoped>\n",
       "    .dataframe tbody tr th:only-of-type {\n",
       "        vertical-align: middle;\n",
       "    }\n",
       "\n",
       "    .dataframe tbody tr th {\n",
       "        vertical-align: top;\n",
       "    }\n",
       "\n",
       "    .dataframe thead th {\n",
       "        text-align: right;\n",
       "    }\n",
       "</style>\n",
       "<table border=\"1\" class=\"dataframe\">\n",
       "  <thead>\n",
       "    <tr style=\"text-align: right;\">\n",
       "      <th></th>\n",
       "      <th>survived</th>\n",
       "      <th>pclass</th>\n",
       "      <th>age</th>\n",
       "      <th>sibsp</th>\n",
       "      <th>parch</th>\n",
       "      <th>fare</th>\n",
       "      <th>alone</th>\n",
       "      <th>sex_male</th>\n",
       "      <th>embark_town_Cherbourg</th>\n",
       "      <th>embark_town_Queenstown</th>\n",
       "      <th>embark_town_Southampton</th>\n",
       "      <th>baseline</th>\n",
       "    </tr>\n",
       "  </thead>\n",
       "  <tbody>\n",
       "    <tr>\n",
       "      <th>455</th>\n",
       "      <td>1</td>\n",
       "      <td>3</td>\n",
       "      <td>29.000000</td>\n",
       "      <td>0</td>\n",
       "      <td>0</td>\n",
       "      <td>7.8958</td>\n",
       "      <td>1</td>\n",
       "      <td>1</td>\n",
       "      <td>1</td>\n",
       "      <td>0</td>\n",
       "      <td>0</td>\n",
       "      <td>0</td>\n",
       "    </tr>\n",
       "    <tr>\n",
       "      <th>380</th>\n",
       "      <td>1</td>\n",
       "      <td>1</td>\n",
       "      <td>42.000000</td>\n",
       "      <td>0</td>\n",
       "      <td>0</td>\n",
       "      <td>227.5250</td>\n",
       "      <td>1</td>\n",
       "      <td>0</td>\n",
       "      <td>1</td>\n",
       "      <td>0</td>\n",
       "      <td>0</td>\n",
       "      <td>0</td>\n",
       "    </tr>\n",
       "    <tr>\n",
       "      <th>492</th>\n",
       "      <td>0</td>\n",
       "      <td>1</td>\n",
       "      <td>55.000000</td>\n",
       "      <td>0</td>\n",
       "      <td>0</td>\n",
       "      <td>30.5000</td>\n",
       "      <td>1</td>\n",
       "      <td>1</td>\n",
       "      <td>0</td>\n",
       "      <td>0</td>\n",
       "      <td>1</td>\n",
       "      <td>0</td>\n",
       "    </tr>\n",
       "    <tr>\n",
       "      <th>55</th>\n",
       "      <td>1</td>\n",
       "      <td>1</td>\n",
       "      <td>29.393566</td>\n",
       "      <td>0</td>\n",
       "      <td>0</td>\n",
       "      <td>35.5000</td>\n",
       "      <td>1</td>\n",
       "      <td>1</td>\n",
       "      <td>0</td>\n",
       "      <td>0</td>\n",
       "      <td>1</td>\n",
       "      <td>0</td>\n",
       "    </tr>\n",
       "    <tr>\n",
       "      <th>243</th>\n",
       "      <td>0</td>\n",
       "      <td>3</td>\n",
       "      <td>22.000000</td>\n",
       "      <td>0</td>\n",
       "      <td>0</td>\n",
       "      <td>7.1250</td>\n",
       "      <td>1</td>\n",
       "      <td>1</td>\n",
       "      <td>0</td>\n",
       "      <td>0</td>\n",
       "      <td>1</td>\n",
       "      <td>0</td>\n",
       "    </tr>\n",
       "  </tbody>\n",
       "</table>\n",
       "</div>"
      ],
      "text/plain": [
       "     survived  pclass        age  sibsp  parch      fare  alone  sex_male  \\\n",
       "455         1       3  29.000000      0      0    7.8958      1         1   \n",
       "380         1       1  42.000000      0      0  227.5250      1         0   \n",
       "492         0       1  55.000000      0      0   30.5000      1         1   \n",
       "55          1       1  29.393566      0      0   35.5000      1         1   \n",
       "243         0       3  22.000000      0      0    7.1250      1         1   \n",
       "\n",
       "     embark_town_Cherbourg  embark_town_Queenstown  embark_town_Southampton  \\\n",
       "455                      1                       0                        0   \n",
       "380                      1                       0                        0   \n",
       "492                      0                       0                        1   \n",
       "55                       0                       0                        1   \n",
       "243                      0                       0                        1   \n",
       "\n",
       "     baseline  \n",
       "455         0  \n",
       "380         0  \n",
       "492         0  \n",
       "55          0  \n",
       "243         0  "
      ]
     },
     "execution_count": 136,
     "metadata": {},
     "output_type": "execute_result"
    }
   ],
   "source": [
    "train.head()"
   ]
  },
  {
   "cell_type": "code",
   "execution_count": 137,
   "id": "101820d3",
   "metadata": {},
   "outputs": [
    {
     "data": {
      "text/plain": [
       "0.6161048689138576"
      ]
     },
     "execution_count": 137,
     "metadata": {},
     "output_type": "execute_result"
    }
   ],
   "source": [
    "(train['survived']==train['baseline']).mean()"
   ]
  },
  {
   "cell_type": "markdown",
   "id": "44335e84",
   "metadata": {},
   "source": [
    "### Create a model that includes age in addition to fare and pclass. Does this model perform better than your baseline?"
   ]
  },
  {
   "cell_type": "markdown",
   "id": "4f0aadcf",
   "metadata": {},
   "source": [
    "### Model 1"
   ]
  },
  {
   "cell_type": "code",
   "execution_count": 138,
   "id": "2a4bbd67",
   "metadata": {},
   "outputs": [],
   "source": [
    "train, validate, test = prepare.prep_titanic_data(acquire.get_titanic_data())"
   ]
  },
  {
   "cell_type": "code",
   "execution_count": 139,
   "id": "788472bd",
   "metadata": {},
   "outputs": [
    {
     "name": "stdout",
     "output_type": "stream",
     "text": [
      "Accuracy of Logistic Regression classifier on training set \"age\", \"fare\", \"pclass\": 0.71\n"
     ]
    }
   ],
   "source": [
    "X_train = train[['age', 'fare', 'pclass']]\n",
    "y_train = train.survived\n",
    "\n",
    "logit = LogisticRegression(random_state=123)\n",
    "logit.fit(X_train, y_train)\n",
    "\n",
    "y_pred = logit.predict(X_train)\n",
    "\n",
    "model1_train_accuracy = logit.score(X_train, y_train)\n",
    "print('Accuracy of Logistic Regression classifier on training set \"age\", \"fare\", \"pclass\": {:.2f}'\n",
    "     .format(logit.score(X_train, y_train)))"
   ]
  },
  {
   "cell_type": "markdown",
   "id": "8061685c",
   "metadata": {},
   "source": [
    "    Does not beat the baseline"
   ]
  },
  {
   "cell_type": "markdown",
   "id": "12b1013f",
   "metadata": {},
   "source": [
    "### Include sex in your model as well. Note that you'll need to encode or create a dummy variable of this feature before including it in a model."
   ]
  },
  {
   "cell_type": "markdown",
   "id": "4e554132",
   "metadata": {},
   "source": [
    "### Model 2"
   ]
  },
  {
   "cell_type": "code",
   "execution_count": 140,
   "id": "4574af45",
   "metadata": {},
   "outputs": [
    {
     "name": "stdout",
     "output_type": "stream",
     "text": [
      "Accuracy of Logistic Regression classifier on training set \"age\", \"fare\", \"pclass\", \"sex_male\": 0.81\n"
     ]
    }
   ],
   "source": [
    "X_train = train[['age', 'fare', 'pclass', 'sex_male']]\n",
    "y_train = train.survived\n",
    "\n",
    "logit = LogisticRegression(random_state=123)\n",
    "logit.fit(X_train, y_train)\n",
    "\n",
    "y_pred = logit.predict(X_train)\n",
    "\n",
    "model2_train_accuracy = logit.score(X_train, y_train)\n",
    "print('Accuracy of Logistic Regression classifier on training set \"age\", \"fare\", \"pclass\", \"sex_male\": {:.2f}'\n",
    "     .format(logit.score(X_train, y_train)))"
   ]
  },
  {
   "cell_type": "markdown",
   "id": "06003da6",
   "metadata": {},
   "source": [
    "### Try out other combinations of features and models."
   ]
  },
  {
   "cell_type": "markdown",
   "id": "35396017",
   "metadata": {},
   "source": [
    "### Model 3"
   ]
  },
  {
   "cell_type": "markdown",
   "id": "c17d561f",
   "metadata": {},
   "source": [
    "    Here I included all the features"
   ]
  },
  {
   "cell_type": "code",
   "execution_count": 141,
   "id": "cc5ebad1",
   "metadata": {},
   "outputs": [],
   "source": [
    "train, validate, test = prepare.prep_titanic_data(acquire.get_titanic_data())"
   ]
  },
  {
   "cell_type": "code",
   "execution_count": 142,
   "id": "ad469147",
   "metadata": {},
   "outputs": [],
   "source": [
    "X_train = train.drop(columns=['survived'])\n",
    "y_train = train.survived\n",
    "\n",
    "X_validate = validate.drop(columns=['survived'])\n",
    "y_validate = validate.survived\n",
    "\n",
    "X_test = test.drop(columns=['survived'])\n",
    "y_test = test.survived"
   ]
  },
  {
   "cell_type": "code",
   "execution_count": 143,
   "id": "4b1e5300",
   "metadata": {},
   "outputs": [
    {
     "data": {
      "text/plain": [
       "LogisticRegression(random_state=123)"
      ]
     },
     "execution_count": 143,
     "metadata": {},
     "output_type": "execute_result"
    }
   ],
   "source": [
    "logit = LogisticRegression(random_state=123)\n",
    "logit.fit(X_train, y_train)"
   ]
  },
  {
   "cell_type": "code",
   "execution_count": 144,
   "id": "b0e5c08a",
   "metadata": {},
   "outputs": [],
   "source": [
    "y_pred = logit.predict(X_train)"
   ]
  },
  {
   "cell_type": "code",
   "execution_count": 145,
   "id": "2aa0db7f",
   "metadata": {},
   "outputs": [],
   "source": [
    "y_pred_proba = logit.predict_proba(X_train)"
   ]
  },
  {
   "cell_type": "code",
   "execution_count": 146,
   "id": "87bf512a",
   "metadata": {},
   "outputs": [
    {
     "name": "stdout",
     "output_type": "stream",
     "text": [
      "Accuracy of Logistic Regression classifier on training set on All Features: 0.80\n"
     ]
    }
   ],
   "source": [
    "model3_train_accuracy = logit.score(X_train, y_train)\n",
    "print('Accuracy of Logistic Regression classifier on training set on All Features: {:.2f}'\n",
    "     .format(logit.score(X_train, y_train)))"
   ]
  },
  {
   "cell_type": "markdown",
   "id": "4b8a39e2",
   "metadata": {},
   "source": [
    "### Model 4"
   ]
  },
  {
   "cell_type": "markdown",
   "id": "63e6ef62",
   "metadata": {},
   "source": [
    "    All the features and Changed C to .1"
   ]
  },
  {
   "cell_type": "code",
   "execution_count": 147,
   "id": "75481968",
   "metadata": {},
   "outputs": [
    {
     "name": "stdout",
     "output_type": "stream",
     "text": [
      "Accuracy of Logistic Regression classifier on training set on All Features: 0.82\n"
     ]
    }
   ],
   "source": [
    "X_train = train.drop(columns=['survived'])\n",
    "y_train = train.survived\n",
    "\n",
    "X_validate = validate.drop(columns=['survived'])\n",
    "y_validate = validate.survived\n",
    "\n",
    "X_test = test.drop(columns=['survived'])\n",
    "y_test = test.survived\n",
    "\n",
    "logit = LogisticRegression(C=.1, random_state=123) # <--- C to .5 here\n",
    "logit.fit(X_train, y_train)\n",
    "y_pred = logit.predict(X_train)\n",
    "\n",
    "model4_train_accuracy = logit.score(X_train, y_train)\n",
    "print('Accuracy of Logistic Regression classifier on training set on All Features: {:.2f}'\n",
    "     .format(logit.score(X_train, y_train)))"
   ]
  },
  {
   "cell_type": "markdown",
   "id": "4f991943",
   "metadata": {},
   "source": [
    "### Use you best 3 models to predict and evaluate on your validate sample."
   ]
  },
  {
   "cell_type": "markdown",
   "id": "2f6c1fc0",
   "metadata": {},
   "source": [
    "### Model 1 Using the features 'age', 'fare', 'pclass'"
   ]
  },
  {
   "cell_type": "code",
   "execution_count": 252,
   "id": "b6b83c6e",
   "metadata": {},
   "outputs": [
    {
     "data": {
      "text/html": [
       "<div>\n",
       "<style scoped>\n",
       "    .dataframe tbody tr th:only-of-type {\n",
       "        vertical-align: middle;\n",
       "    }\n",
       "\n",
       "    .dataframe tbody tr th {\n",
       "        vertical-align: top;\n",
       "    }\n",
       "\n",
       "    .dataframe thead th {\n",
       "        text-align: right;\n",
       "    }\n",
       "</style>\n",
       "<table border=\"1\" class=\"dataframe\">\n",
       "  <thead>\n",
       "    <tr style=\"text-align: right;\">\n",
       "      <th></th>\n",
       "      <th>age</th>\n",
       "      <th>fare</th>\n",
       "      <th>pclass</th>\n",
       "    </tr>\n",
       "  </thead>\n",
       "  <tbody>\n",
       "    <tr>\n",
       "      <th>455</th>\n",
       "      <td>29.000000</td>\n",
       "      <td>7.8958</td>\n",
       "      <td>3</td>\n",
       "    </tr>\n",
       "    <tr>\n",
       "      <th>380</th>\n",
       "      <td>42.000000</td>\n",
       "      <td>227.5250</td>\n",
       "      <td>1</td>\n",
       "    </tr>\n",
       "    <tr>\n",
       "      <th>492</th>\n",
       "      <td>55.000000</td>\n",
       "      <td>30.5000</td>\n",
       "      <td>1</td>\n",
       "    </tr>\n",
       "    <tr>\n",
       "      <th>55</th>\n",
       "      <td>29.393566</td>\n",
       "      <td>35.5000</td>\n",
       "      <td>1</td>\n",
       "    </tr>\n",
       "    <tr>\n",
       "      <th>243</th>\n",
       "      <td>22.000000</td>\n",
       "      <td>7.1250</td>\n",
       "      <td>3</td>\n",
       "    </tr>\n",
       "    <tr>\n",
       "      <th>...</th>\n",
       "      <td>...</td>\n",
       "      <td>...</td>\n",
       "      <td>...</td>\n",
       "    </tr>\n",
       "    <tr>\n",
       "      <th>695</th>\n",
       "      <td>52.000000</td>\n",
       "      <td>13.5000</td>\n",
       "      <td>2</td>\n",
       "    </tr>\n",
       "    <tr>\n",
       "      <th>128</th>\n",
       "      <td>29.393566</td>\n",
       "      <td>22.3583</td>\n",
       "      <td>3</td>\n",
       "    </tr>\n",
       "    <tr>\n",
       "      <th>636</th>\n",
       "      <td>32.000000</td>\n",
       "      <td>7.9250</td>\n",
       "      <td>3</td>\n",
       "    </tr>\n",
       "    <tr>\n",
       "      <th>222</th>\n",
       "      <td>51.000000</td>\n",
       "      <td>8.0500</td>\n",
       "      <td>3</td>\n",
       "    </tr>\n",
       "    <tr>\n",
       "      <th>496</th>\n",
       "      <td>54.000000</td>\n",
       "      <td>78.2667</td>\n",
       "      <td>1</td>\n",
       "    </tr>\n",
       "  </tbody>\n",
       "</table>\n",
       "<p>534 rows × 3 columns</p>\n",
       "</div>"
      ],
      "text/plain": [
       "           age      fare  pclass\n",
       "455  29.000000    7.8958       3\n",
       "380  42.000000  227.5250       1\n",
       "492  55.000000   30.5000       1\n",
       "55   29.393566   35.5000       1\n",
       "243  22.000000    7.1250       3\n",
       "..         ...       ...     ...\n",
       "695  52.000000   13.5000       2\n",
       "128  29.393566   22.3583       3\n",
       "636  32.000000    7.9250       3\n",
       "222  51.000000    8.0500       3\n",
       "496  54.000000   78.2667       1\n",
       "\n",
       "[534 rows x 3 columns]"
      ]
     },
     "execution_count": 252,
     "metadata": {},
     "output_type": "execute_result"
    }
   ],
   "source": [
    "train[['age', 'fare', 'pclass']]"
   ]
  },
  {
   "cell_type": "code",
   "execution_count": 182,
   "id": "943b160f",
   "metadata": {},
   "outputs": [
    {
     "name": "stdout",
     "output_type": "stream",
     "text": [
      "Model 1 features ('age', 'fare', 'pclass')\n",
      "\n",
      "Train accuracy = 0.7059925093632958\n",
      "validate accuracy = 0.6966292134831461\n",
      "Differece: 0.009363295880149725\n",
      "Meets threshold(0.05): requirement: True\n"
     ]
    }
   ],
   "source": [
    "X_train = train[['age', 'fare', 'pclass']]\n",
    "y_train = train.survived\n",
    "\n",
    "X_validate = validate[['age', 'fare', 'pclass']]\n",
    "y_validate = validate.survived\n",
    "\n",
    "logit = LogisticRegression(random_state=123)\n",
    "logit.fit(X_train, y_train)\n",
    "\n",
    "y_pred = logit.predict(X_validate)\n",
    "model1_validate_accuracy = logit.score(X_validate, y_validate)\n",
    "difference = abs(model1_validate_accuracy-model1_train_accuracy)\n",
    "\n",
    "print(f\"Model 1 features ('age', 'fare', 'pclass')\\n\\nTrain accuracy = {model1_train_accuracy}\\nvalidate accuracy = {model1_validate_accuracy}\\nDifferece: {difference}\")\n",
    "print(f\"Meets threshold({threshold}): requirement: {threshold>difference}\")"
   ]
  },
  {
   "cell_type": "markdown",
   "id": "ebab1f63",
   "metadata": {},
   "source": [
    "### Model 2  Using the features 'age', 'fare', 'pclass', 'sex_male'"
   ]
  },
  {
   "cell_type": "code",
   "execution_count": 178,
   "id": "16cf2136",
   "metadata": {},
   "outputs": [
    {
     "name": "stdout",
     "output_type": "stream",
     "text": [
      "Model 2 features ('age', 'fare', 'pclass', 'sex_male')\n",
      "\n",
      "Train accuracy = 0.8052434456928839\n",
      "validate accuracy = 0.7808988764044944\n",
      "Differece: 0.02434456928838946\n",
      "Meets threshold(0.05): requirement: True\n"
     ]
    }
   ],
   "source": [
    "X_train = train[['age', 'fare', 'pclass', 'sex_male']]\n",
    "y_train = train.survived\n",
    "\n",
    "X_validate = validate[['age', 'fare', 'pclass', 'sex_male']]\n",
    "y_validate = validate.survived\n",
    "\n",
    "logit = LogisticRegression(random_state=123)\n",
    "logit.fit(X_train, y_train)\n",
    "\n",
    "y_pred = logit.predict(X_validate)\n",
    "model2_validate_accuracy = logit.score(X_validate, y_validate)\n",
    "difference = abs(model2_validate_accuracy-model2_train_accuracy)\n",
    "\n",
    "print(f\"Model 2 features ('age', 'fare', 'pclass', 'sex_male')\\n\\nTrain accuracy = {model2_train_accuracy}\\nvalidate accuracy = {model2_validate_accuracy}\\nDifferece: {difference}\")\n",
    "print(f\"Meets threshold({threshold}): requirement: {threshold>difference}\")"
   ]
  },
  {
   "cell_type": "markdown",
   "id": "8c604991",
   "metadata": {},
   "source": [
    "### Model 3  Using ALL Features"
   ]
  },
  {
   "cell_type": "code",
   "execution_count": 175,
   "id": "aaf0bf24",
   "metadata": {},
   "outputs": [
    {
     "name": "stdout",
     "output_type": "stream",
     "text": [
      "Model 3 features ('ALL Features')\n",
      "\n",
      "Train accuracy = 0.8014981273408239\n",
      "validate accuracy = 0.7921348314606742\n",
      "Differece: 0.009363295880149725\n",
      "Meets threshold(0.05): requirement: True\n"
     ]
    }
   ],
   "source": [
    "X_train= train.drop(columns=['survived'])\n",
    "y_train = train.survived\n",
    "\n",
    "X_validate = validate.drop(columns=['survived'])\n",
    "y_validate = validate.survived\n",
    "\n",
    "\n",
    "logit = LogisticRegression(random_state=123)\n",
    "logit.fit(X_train, y_train)\n",
    "y_pred = logit.predict(X_validate)\n",
    "\n",
    "model3_validate_accuracy = logit.score(X_validate, y_validate)\n",
    "difference = abs(model3_validate_accuracy-model3_train_accuracy)\n",
    "\n",
    "print(f\"Model 3 features ('ALL Features')\\n\\nTrain accuracy = {model3_train_accuracy}\\nvalidate accuracy = {model3_validate_accuracy}\\nDifferece: {difference}\")\n",
    "print(f\"Meets threshold({threshold}): requirement: {threshold>difference}\")"
   ]
  },
  {
   "cell_type": "markdown",
   "id": "707d19fc",
   "metadata": {},
   "source": [
    "### Model 4 Using ALL Features and Setting C to .1"
   ]
  },
  {
   "cell_type": "code",
   "execution_count": 184,
   "id": "3b848a9f",
   "metadata": {},
   "outputs": [
    {
     "name": "stdout",
     "output_type": "stream",
     "text": [
      "Model 4 features ('ALL Features and C=.1')\n",
      "\n",
      "Train accuracy = 0.8183520599250936\n",
      "validate accuracy = 0.7921348314606742\n",
      "Differece: 0.02621722846441943\n",
      "Meets threshold(0.05): requirement: True\n"
     ]
    }
   ],
   "source": [
    "X_train = train.drop(columns=['survived'])\n",
    "y_train = train.survived\n",
    "\n",
    "X_validate = validate.drop(columns=['survived'])\n",
    "y_validate = validate.survived\n",
    "\n",
    "logit = LogisticRegression(C=.1, random_state=123) # < -- C=.1\n",
    "logit.fit(X_train, y_train)\n",
    "y_pred = logit.predict(X_validate)\n",
    "\n",
    "model4_validate_accuracy = logit.score(X_validate, y_validate)\n",
    "difference = abs(model4_validate_accuracy-model4_train_accuracy)\n",
    "\n",
    "print(f\"Model 4 features ('ALL Features and C=.1')\\n\\nTrain accuracy = {model4_train_accuracy}\\nvalidate accuracy = {model4_validate_accuracy}\\nDifferece: {difference}\")\n",
    "print(f\"Meets threshold({threshold}): requirement: {threshold>difference}\")"
   ]
  },
  {
   "cell_type": "markdown",
   "id": "c332f2b4",
   "metadata": {},
   "source": [
    "### Choose you best model from the validation performation, and evaluate it on the test dataset. How do the performance metrics compare to validate? to train?"
   ]
  },
  {
   "cell_type": "markdown",
   "id": "683087a7",
   "metadata": {},
   "source": [
    "    My best Model was Model 3 (ALl Features) with a .792 Accuracy and lowest Threshold of .009"
   ]
  },
  {
   "cell_type": "markdown",
   "id": "e47e1a55",
   "metadata": {},
   "source": [
    "# Running Test Model"
   ]
  },
  {
   "cell_type": "code",
   "execution_count": 192,
   "id": "51c2d21c",
   "metadata": {},
   "outputs": [
    {
     "name": "stdout",
     "output_type": "stream",
     "text": [
      "Train Accuracy: 0.8014981273408239\n",
      "Validate Accuracy: 0.7921348314606742\n",
      "Test Accuracy: 0.8100558659217877\n",
      "\n",
      "Test-Train: 0.008557738580963759\n",
      "Test-Validate: 0.017921034461113483\n"
     ]
    }
   ],
   "source": [
    "X_train= train.drop(columns=['survived'])\n",
    "y_train = train.survived\n",
    "\n",
    "X_test = test.drop(columns=['survived'])\n",
    "y_test = test.survived\n",
    "\n",
    "\n",
    "logit = LogisticRegression(random_state=123)\n",
    "logit.fit(X_train, y_train)\n",
    "y_pred = logit.predict(X_test)\n",
    "\n",
    "model3_test_accuracy = logit.score(X_test, y_test)\n",
    "difference_train = abs(model3_test_accuracy-model3_train_accuracy)\n",
    "difference_validate = abs(model3_test_accuracy-model3_validate_accuracy)\n",
    "\n",
    "\n",
    "print(f\"Train Accuracy: {model3_train_accuracy}\")\n",
    "print(f\"Validate Accuracy: {model3_validate_accuracy}\")\n",
    "print(f\"Test Accuracy: {model3_test_accuracy}\\n\")\n",
    "\n",
    "print(f\"Test-Train: {difference_train}\")\n",
    "print(f\"Test-Validate: {difference_validate}\")\n"
   ]
  },
  {
   "cell_type": "code",
   "execution_count": null,
   "id": "25dca090",
   "metadata": {},
   "outputs": [],
   "source": []
  }
 ],
 "metadata": {
  "kernelspec": {
   "display_name": "Python 3",
   "language": "python",
   "name": "python3"
  },
  "language_info": {
   "codemirror_mode": {
    "name": "ipython",
    "version": 3
   },
   "file_extension": ".py",
   "mimetype": "text/x-python",
   "name": "python",
   "nbconvert_exporter": "python",
   "pygments_lexer": "ipython3",
   "version": "3.8.8"
  }
 },
 "nbformat": 4,
 "nbformat_minor": 5
}
