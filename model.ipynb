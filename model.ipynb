{
 "cells": [
  {
   "cell_type": "code",
   "execution_count": 88,
   "id": "97942868",
   "metadata": {},
   "outputs": [],
   "source": [
    "from math import sqrt\n",
    "from scipy import stats\n",
    "import matplotlib.pyplot as plt\n",
    "import numpy as np\n",
    "import pandas as pd\n",
    "import seaborn as sns\n",
    "from pydataset import data\n",
    "import statistics\n",
    "import acquire\n",
    "import prepare\n",
    "\n",
    "from sklearn.model_selection import train_test_split\n",
    "from sklearn.tree import DecisionTreeClassifier\n",
    "from sklearn.tree import export_graphviz\n",
    "from sklearn.metrics import classification_report\n",
    "from sklearn.metrics import confusion_matrix\n",
    "from sklearn.ensemble import RandomForestClassifier\n",
    "\n",
    "import explore\n",
    "import warnings\n",
    "warnings.filterwarnings(\"ignore\")\n",
    "\n",
    "import graphviz\n",
    "from graphviz import Graph"
   ]
  },
  {
   "cell_type": "markdown",
   "id": "1c98c69a",
   "metadata": {},
   "source": [
    "### Using the titanic data, in your classification-exercises repository, create a notebook, model.ipynb where you will do the following:"
   ]
  },
  {
   "cell_type": "code",
   "execution_count": 7,
   "id": "c902a9cc",
   "metadata": {},
   "outputs": [],
   "source": [
    "train, validate, test = prepare.prep_titanic_data(acquire.get_titanic_data())"
   ]
  },
  {
   "cell_type": "code",
   "execution_count": 9,
   "id": "1fe8bea6",
   "metadata": {
    "scrolled": true
   },
   "outputs": [
    {
     "data": {
      "text/html": [
       "<div>\n",
       "<style scoped>\n",
       "    .dataframe tbody tr th:only-of-type {\n",
       "        vertical-align: middle;\n",
       "    }\n",
       "\n",
       "    .dataframe tbody tr th {\n",
       "        vertical-align: top;\n",
       "    }\n",
       "\n",
       "    .dataframe thead th {\n",
       "        text-align: right;\n",
       "    }\n",
       "</style>\n",
       "<table border=\"1\" class=\"dataframe\">\n",
       "  <thead>\n",
       "    <tr style=\"text-align: right;\">\n",
       "      <th></th>\n",
       "      <th>passenger_id</th>\n",
       "      <th>survived</th>\n",
       "      <th>pclass</th>\n",
       "      <th>sex</th>\n",
       "      <th>sibsp</th>\n",
       "      <th>parch</th>\n",
       "      <th>fare</th>\n",
       "      <th>embark_town</th>\n",
       "      <th>alone</th>\n",
       "      <th>sex_female</th>\n",
       "      <th>sex_male</th>\n",
       "      <th>embark_town_Cherbourg</th>\n",
       "      <th>embark_town_Queenstown</th>\n",
       "      <th>embark_town_Southampton</th>\n",
       "    </tr>\n",
       "  </thead>\n",
       "  <tbody>\n",
       "    <tr>\n",
       "      <th>455</th>\n",
       "      <td>455</td>\n",
       "      <td>1</td>\n",
       "      <td>3</td>\n",
       "      <td>male</td>\n",
       "      <td>0</td>\n",
       "      <td>0</td>\n",
       "      <td>7.8958</td>\n",
       "      <td>Cherbourg</td>\n",
       "      <td>1</td>\n",
       "      <td>0</td>\n",
       "      <td>1</td>\n",
       "      <td>1</td>\n",
       "      <td>0</td>\n",
       "      <td>0</td>\n",
       "    </tr>\n",
       "    <tr>\n",
       "      <th>380</th>\n",
       "      <td>380</td>\n",
       "      <td>1</td>\n",
       "      <td>1</td>\n",
       "      <td>female</td>\n",
       "      <td>0</td>\n",
       "      <td>0</td>\n",
       "      <td>227.5250</td>\n",
       "      <td>Cherbourg</td>\n",
       "      <td>1</td>\n",
       "      <td>1</td>\n",
       "      <td>0</td>\n",
       "      <td>1</td>\n",
       "      <td>0</td>\n",
       "      <td>0</td>\n",
       "    </tr>\n",
       "    <tr>\n",
       "      <th>492</th>\n",
       "      <td>492</td>\n",
       "      <td>0</td>\n",
       "      <td>1</td>\n",
       "      <td>male</td>\n",
       "      <td>0</td>\n",
       "      <td>0</td>\n",
       "      <td>30.5000</td>\n",
       "      <td>Southampton</td>\n",
       "      <td>1</td>\n",
       "      <td>0</td>\n",
       "      <td>1</td>\n",
       "      <td>0</td>\n",
       "      <td>0</td>\n",
       "      <td>1</td>\n",
       "    </tr>\n",
       "  </tbody>\n",
       "</table>\n",
       "</div>"
      ],
      "text/plain": [
       "     passenger_id  survived  pclass     sex  sibsp  parch      fare  \\\n",
       "455           455         1       3    male      0      0    7.8958   \n",
       "380           380         1       1  female      0      0  227.5250   \n",
       "492           492         0       1    male      0      0   30.5000   \n",
       "\n",
       "     embark_town  alone  sex_female  sex_male  embark_town_Cherbourg  \\\n",
       "455    Cherbourg      1           0         1                      1   \n",
       "380    Cherbourg      1           1         0                      1   \n",
       "492  Southampton      1           0         1                      0   \n",
       "\n",
       "     embark_town_Queenstown  embark_town_Southampton  \n",
       "455                       0                        0  \n",
       "380                       0                        0  \n",
       "492                       0                        1  "
      ]
     },
     "execution_count": 9,
     "metadata": {},
     "output_type": "execute_result"
    }
   ],
   "source": [
    "train.head(3)"
   ]
  },
  {
   "cell_type": "markdown",
   "id": "15aeaed3",
   "metadata": {},
   "source": [
    "### What is your baseline prediction?\n",
    "### What is your baseline accuracy? remember: your baseline prediction for a classification problem is predicting the most prevelant class in the training dataset (the mode)."
   ]
  },
  {
   "cell_type": "code",
   "execution_count": 21,
   "id": "9275d631",
   "metadata": {},
   "outputs": [
    {
     "data": {
      "text/plain": [
       "0    329\n",
       "1    205\n",
       "Name: survived, dtype: int64"
      ]
     },
     "execution_count": 21,
     "metadata": {},
     "output_type": "execute_result"
    }
   ],
   "source": [
    "train.survived.value_counts()"
   ]
  },
  {
   "cell_type": "code",
   "execution_count": 23,
   "id": "073c443e",
   "metadata": {},
   "outputs": [],
   "source": [
    "train[\"baseline\"] = 0"
   ]
  },
  {
   "cell_type": "code",
   "execution_count": 24,
   "id": "47bc04bb",
   "metadata": {},
   "outputs": [
    {
     "data": {
      "text/plain": [
       "0.6161048689138576"
      ]
     },
     "execution_count": 24,
     "metadata": {},
     "output_type": "execute_result"
    }
   ],
   "source": [
    "(train.survived==train.baseline).mean()"
   ]
  },
  {
   "cell_type": "markdown",
   "id": "ae093d7f",
   "metadata": {},
   "source": [
    "### When you make those predictions, what is your accuracy? This is your baseline accuracy.\n",
    "    61% and yes this is my basline accuracy assuming no survivers "
   ]
  },
  {
   "cell_type": "markdown",
   "id": "1ab605da",
   "metadata": {},
   "source": [
    "### Fit the decision tree classifier to your training sample and transform (i.e. make predictions on the training sample)"
   ]
  },
  {
   "cell_type": "code",
   "execution_count": 10,
   "id": "a28dfa84",
   "metadata": {},
   "outputs": [],
   "source": [
    "train.drop(columns=['sex', 'embark_town'], inplace=True)\n",
    "validate.drop(columns=['sex', 'embark_town'], inplace=True)\n",
    "test.drop(columns=['sex', 'embark_town'], inplace=True)\n",
    "train[\"\"]"
   ]
  },
  {
   "cell_type": "code",
   "execution_count": 11,
   "id": "c9ec8452",
   "metadata": {},
   "outputs": [],
   "source": [
    "# create X & y version of train, where y is a series with just the target variable and X are all the features. \n",
    "\n",
    "X_train = train.drop(columns=['survived'])\n",
    "y_train = train.survived\n",
    "\n",
    "X_validate = validate.drop(columns=['survived'])\n",
    "y_validate = validate.survived\n",
    "\n",
    "X_test = test.drop(columns=['survived'])\n",
    "y_test = test.survived"
   ]
  },
  {
   "cell_type": "code",
   "execution_count": 12,
   "id": "857544ae",
   "metadata": {},
   "outputs": [],
   "source": [
    "clf = DecisionTreeClassifier(max_depth=3, random_state=123)"
   ]
  },
  {
   "cell_type": "code",
   "execution_count": 13,
   "id": "ac67700c",
   "metadata": {},
   "outputs": [],
   "source": [
    "clf = clf.fit(X_train, y_train)"
   ]
  },
  {
   "cell_type": "code",
   "execution_count": 14,
   "id": "699ea4e9",
   "metadata": {},
   "outputs": [
    {
     "data": {
      "text/plain": [
       "array([0, 1, 0, 0, 0])"
      ]
     },
     "execution_count": 14,
     "metadata": {},
     "output_type": "execute_result"
    }
   ],
   "source": [
    "y_pred = clf.predict(X_train)\n",
    "y_pred[0:5]"
   ]
  },
  {
   "cell_type": "code",
   "execution_count": 15,
   "id": "1f1654c1",
   "metadata": {},
   "outputs": [
    {
     "data": {
      "text/plain": [
       "array([[0.90322581, 0.09677419],\n",
       "       [0.        , 1.        ],\n",
       "       [0.61458333, 0.38541667],\n",
       "       [0.86666667, 0.13333333],\n",
       "       [0.90322581, 0.09677419]])"
      ]
     },
     "execution_count": 15,
     "metadata": {},
     "output_type": "execute_result"
    }
   ],
   "source": [
    "y_pred_proba = clf.predict_proba(X_train)\n",
    "y_pred_proba[0:5]"
   ]
  },
  {
   "cell_type": "markdown",
   "id": "78ffc798",
   "metadata": {},
   "source": [
    "### Evaluate your in-sample results using the model score, confusion matrix, and classification report."
   ]
  },
  {
   "cell_type": "code",
   "execution_count": 16,
   "id": "9cd501c2",
   "metadata": {},
   "outputs": [
    {
     "name": "stdout",
     "output_type": "stream",
     "text": [
      "Accuracy of Decision Tree classifier on training set: 0.81\n"
     ]
    }
   ],
   "source": [
    "print('Accuracy of Decision Tree classifier on training set: {:.2f}'\n",
    "      .format(clf.score(X_train, y_train)))"
   ]
  },
  {
   "cell_type": "code",
   "execution_count": 25,
   "id": "3f1d7f0c",
   "metadata": {},
   "outputs": [
    {
     "data": {
      "text/plain": [
       "array([[293,  36],\n",
       "       [ 63, 142]])"
      ]
     },
     "execution_count": 25,
     "metadata": {},
     "output_type": "execute_result"
    }
   ],
   "source": [
    "confusion_matrix(y_train, y_pred)"
   ]
  },
  {
   "cell_type": "code",
   "execution_count": 26,
   "id": "2537c43b",
   "metadata": {},
   "outputs": [
    {
     "data": {
      "text/plain": [
       "0    329\n",
       "1    205\n",
       "Name: survived, dtype: int64"
      ]
     },
     "execution_count": 26,
     "metadata": {},
     "output_type": "execute_result"
    }
   ],
   "source": [
    "y_train.value_counts()"
   ]
  },
  {
   "cell_type": "code",
   "execution_count": 27,
   "id": "3fa67ae4",
   "metadata": {},
   "outputs": [
    {
     "data": {
      "text/html": [
       "<div>\n",
       "<style scoped>\n",
       "    .dataframe tbody tr th:only-of-type {\n",
       "        vertical-align: middle;\n",
       "    }\n",
       "\n",
       "    .dataframe tbody tr th {\n",
       "        vertical-align: top;\n",
       "    }\n",
       "\n",
       "    .dataframe thead th {\n",
       "        text-align: right;\n",
       "    }\n",
       "</style>\n",
       "<table border=\"1\" class=\"dataframe\">\n",
       "  <thead>\n",
       "    <tr style=\"text-align: right;\">\n",
       "      <th></th>\n",
       "      <th>0</th>\n",
       "      <th>1</th>\n",
       "    </tr>\n",
       "  </thead>\n",
       "  <tbody>\n",
       "    <tr>\n",
       "      <th>0</th>\n",
       "      <td>293</td>\n",
       "      <td>36</td>\n",
       "    </tr>\n",
       "    <tr>\n",
       "      <th>1</th>\n",
       "      <td>63</td>\n",
       "      <td>142</td>\n",
       "    </tr>\n",
       "  </tbody>\n",
       "</table>\n",
       "</div>"
      ],
      "text/plain": [
       "     0    1\n",
       "0  293   36\n",
       "1   63  142"
      ]
     },
     "execution_count": 27,
     "metadata": {},
     "output_type": "execute_result"
    }
   ],
   "source": [
    "labels = sorted(y_train.unique())\n",
    "\n",
    "pd.DataFrame(confusion_matrix(y_train, y_pred), index=labels, columns=labels)"
   ]
  },
  {
   "cell_type": "code",
   "execution_count": 28,
   "id": "7728e508",
   "metadata": {},
   "outputs": [
    {
     "name": "stdout",
     "output_type": "stream",
     "text": [
      "              precision    recall  f1-score   support\n",
      "\n",
      "           0       0.82      0.89      0.86       329\n",
      "           1       0.80      0.69      0.74       205\n",
      "\n",
      "    accuracy                           0.81       534\n",
      "   macro avg       0.81      0.79      0.80       534\n",
      "weighted avg       0.81      0.81      0.81       534\n",
      "\n"
     ]
    }
   ],
   "source": [
    "print(classification_report(y_train, y_pred))"
   ]
  },
  {
   "cell_type": "code",
   "execution_count": 20,
   "id": "a3580a59",
   "metadata": {},
   "outputs": [
    {
     "data": {
      "text/plain": [
       "'titanic_decision_tree.pdf'"
      ]
     },
     "execution_count": 20,
     "metadata": {},
     "output_type": "execute_result"
    }
   ],
   "source": [
    "dot_data = export_graphviz(clf, feature_names= X_train.columns,class_names=['died','lived'], rounded=True, filled=True, out_file=None)\n",
    "graph = graphviz.Source(dot_data) \n",
    "\n",
    "graph.render('titanic_decision_tree', view=True)"
   ]
  },
  {
   "cell_type": "markdown",
   "id": "a7e7637a",
   "metadata": {},
   "source": [
    "# Run through steps 2-4 using a different max_depth value."
   ]
  },
  {
   "cell_type": "code",
   "execution_count": 73,
   "id": "0ff5b2cf",
   "metadata": {},
   "outputs": [],
   "source": [
    "def train_model(max_depth):\n",
    "    clf = DecisionTreeClassifier(max_depth=max_depth, random_state=123)\n",
    "    clf = clf.fit(X_train, y_train)\n",
    "    y_pred = clf.predict(X_train)\n",
    "    y_pred_proba = clf.predict_proba(X_train)\n",
    "    accuracy = clf.score(X_train, y_train)\n",
    "    #print(classification_report(y_train, y_pred))\n",
    "    return accuracy\n",
    "\n",
    "def validate_model(max_depth):\n",
    "    clf = DecisionTreeClassifier(max_depth=max_depth, random_state=123)\n",
    "    clf = clf.fit(X_train, y_train)\n",
    "    y_pred = clf.predict(X_validate)\n",
    "    y_pred_proba = clf.predict_proba(X_validate)\n",
    "    accuracy = clf.score(X_validate, y_validate)\n",
    "    return accuracy\n",
    "    #print(classification_report(y_validate, y_pred))"
   ]
  },
  {
   "cell_type": "code",
   "execution_count": 84,
   "id": "5e278c8f",
   "metadata": {},
   "outputs": [
    {
     "name": "stdout",
     "output_type": "stream",
     "text": [
      "Accuracy of Decision Tree classifier in depth: 1: train = 0.792 validate = 0.775\n",
      "Accuracy of Decision Tree classifier in depth: 2: train = 0.792 validate = 0.775\n",
      "Accuracy of Decision Tree classifier in depth: 3: train = 0.815 validate = 0.787\n",
      "Accuracy of Decision Tree classifier in depth: 4: train = 0.826 validate = 0.787\n",
      "Accuracy of Decision Tree classifier in depth: 5: train = 0.843 validate = 0.736\n",
      "Accuracy of Decision Tree classifier in depth: 6: train = 0.878 validate = 0.781\n"
     ]
    }
   ],
   "source": [
    "for depth in range(1,7):\n",
    "    print(f'Accuracy of Decision Tree classifier in depth: {depth}: train = {round(train_model(depth), 3)} validate = {round(validate_model(depth), 3)}')"
   ]
  },
  {
   "cell_type": "markdown",
   "id": "5198b99f",
   "metadata": {},
   "source": [
    "### Which model performs better on your in-sample data?\n",
    "    Max Depth 6 worked better in my sample data\n",
    "\n",
    "### Which model performs best on your out-of-sample data, the validate set?\n",
    "    Max Depth 2 was the closest accuracy to my train set"
   ]
  },
  {
   "cell_type": "markdown",
   "id": "d371b4d1",
   "metadata": {},
   "source": [
    "# Random Forest Exercises"
   ]
  },
  {
   "cell_type": "markdown",
   "id": "0edfcdb2",
   "metadata": {},
   "source": [
    "### Fit the Random Forest classifier to your training sample and transform (i.e. make predictions on the training sample) setting the random_state accordingly and setting min_samples_leaf = 1 and max_depth = 10."
   ]
  },
  {
   "cell_type": "code",
   "execution_count": 90,
   "id": "ac137d18",
   "metadata": {},
   "outputs": [],
   "source": [
    "rf = RandomForestClassifier(bootstrap=True, \n",
    "                            class_weight=None, \n",
    "                            criterion='gini',\n",
    "                            min_samples_leaf=1,\n",
    "                            n_estimators=100,\n",
    "                            max_depth=10, \n",
    "                            random_state=123)"
   ]
  },
  {
   "cell_type": "code",
   "execution_count": 91,
   "id": "3316d7f2",
   "metadata": {},
   "outputs": [
    {
     "data": {
      "text/plain": [
       "RandomForestClassifier(max_depth=10, random_state=123)"
      ]
     },
     "execution_count": 91,
     "metadata": {},
     "output_type": "execute_result"
    }
   ],
   "source": [
    "rf.fit(X_train, y_train)"
   ]
  },
  {
   "cell_type": "markdown",
   "id": "da933d92",
   "metadata": {},
   "source": [
    "### Evaluate your results using the model score, confusion matrix, and classification report."
   ]
  },
  {
   "cell_type": "code",
   "execution_count": 96,
   "id": "c643dab1",
   "metadata": {},
   "outputs": [
    {
     "data": {
      "text/plain": [
       "array([0, 1, 0, 1, 0])"
      ]
     },
     "execution_count": 96,
     "metadata": {},
     "output_type": "execute_result"
    }
   ],
   "source": [
    "y_pred = rf.predict(X_train)\n",
    "y_pred[0:5]"
   ]
  },
  {
   "cell_type": "code",
   "execution_count": 100,
   "id": "376c31b5",
   "metadata": {},
   "outputs": [
    {
     "data": {
      "text/plain": [
       "array([[0.62394629, 0.37605371],\n",
       "       [0.01      , 0.99      ],\n",
       "       [0.71781496, 0.28218504],\n",
       "       ...,\n",
       "       [0.92561887, 0.07438113],\n",
       "       [0.96809372, 0.03190628],\n",
       "       [0.02      , 0.98      ]])"
      ]
     },
     "execution_count": 100,
     "metadata": {},
     "output_type": "execute_result"
    }
   ],
   "source": [
    "y_pred_proba = rf.predict_proba(X_train)\n",
    "y_pred_proba"
   ]
  },
  {
   "cell_type": "code",
   "execution_count": 101,
   "id": "5291aad7",
   "metadata": {},
   "outputs": [
    {
     "name": "stdout",
     "output_type": "stream",
     "text": [
      "Accuracy of random forest classifier on training set: 0.97\n"
     ]
    }
   ],
   "source": [
    "print('Accuracy of random forest classifier on training set: {:.2f}'\n",
    "     .format(rf.score(X_train, y_train)))"
   ]
  },
  {
   "cell_type": "code",
   "execution_count": 102,
   "id": "e874a1ce",
   "metadata": {},
   "outputs": [
    {
     "name": "stdout",
     "output_type": "stream",
     "text": [
      "[[329   0]\n",
      " [ 15 190]]\n"
     ]
    }
   ],
   "source": [
    "print(confusion_matrix(y_train, y_pred))"
   ]
  },
  {
   "cell_type": "code",
   "execution_count": 103,
   "id": "3b35918b",
   "metadata": {},
   "outputs": [
    {
     "name": "stdout",
     "output_type": "stream",
     "text": [
      "              precision    recall  f1-score   support\n",
      "\n",
      "           0       0.96      1.00      0.98       329\n",
      "           1       1.00      0.93      0.96       205\n",
      "\n",
      "    accuracy                           0.97       534\n",
      "   macro avg       0.98      0.96      0.97       534\n",
      "weighted avg       0.97      0.97      0.97       534\n",
      "\n"
     ]
    }
   ],
   "source": [
    "print(classification_report(y_train, y_pred))"
   ]
  },
  {
   "cell_type": "code",
   "execution_count": 104,
   "id": "eb460942",
   "metadata": {},
   "outputs": [
    {
     "name": "stdout",
     "output_type": "stream",
     "text": [
      "Accuracy of random forest classifier on test set: 0.77\n"
     ]
    }
   ],
   "source": [
    "print('Accuracy of random forest classifier on test set: {:.2f}'\n",
    "     .format(rf.score(X_validate, y_validate)))"
   ]
  },
  {
   "cell_type": "code",
   "execution_count": 114,
   "id": "68c1c6f7",
   "metadata": {},
   "outputs": [],
   "source": [
    "def forest_train(leaf, depth):\n",
    "    rf = RandomForestClassifier(bootstrap=True, \n",
    "                            class_weight=None, \n",
    "                            criterion='gini',\n",
    "                            min_samples_leaf=leaf,\n",
    "                            n_estimators=100,\n",
    "                            max_depth=depth, \n",
    "                            random_state=123)\n",
    "    rf.fit(X_train, y_train)\n",
    "    accuracy = rf.score(X_train, y_train)\n",
    "    return round(accuracy, 3)\n",
    "\n",
    "def forest_validate(leaf, depth):\n",
    "    rf = RandomForestClassifier(bootstrap=True, \n",
    "                            class_weight=None, \n",
    "                            criterion='gini',\n",
    "                            min_samples_leaf=leaf,\n",
    "                            n_estimators=100,\n",
    "                            max_depth=depth, \n",
    "                            random_state=123)\n",
    "    rf.fit(X_train, y_train)\n",
    "    accuracy = rf.score(X_validate, y_validate)\n",
    "    return round(accuracy, 3)"
   ]
  },
  {
   "cell_type": "code",
   "execution_count": 117,
   "id": "21442160",
   "metadata": {},
   "outputs": [
    {
     "name": "stdout",
     "output_type": "stream",
     "text": [
      "For leaf: 1 and depth: 1 accuracy is: 0.794\n",
      "For leaf: 1 and depth: 1 accuracy is: 0.77\n",
      "Difference is: 0.02400000000000002\n",
      "For leaf: 1 and depth: 2 accuracy is: 0.792\n",
      "For leaf: 1 and depth: 2 accuracy is: 0.775\n",
      "Difference is: 0.017000000000000015\n",
      "For leaf: 1 and depth: 3 accuracy is: 0.813\n",
      "For leaf: 1 and depth: 3 accuracy is: 0.787\n",
      "Difference is: 0.025999999999999912\n",
      "For leaf: 1 and depth: 4 accuracy is: 0.837\n",
      "For leaf: 1 and depth: 4 accuracy is: 0.798\n",
      "Difference is: 0.038999999999999924\n",
      "For leaf: 1 and depth: 5 accuracy is: 0.854\n",
      "For leaf: 1 and depth: 5 accuracy is: 0.798\n",
      "Difference is: 0.05599999999999994\n",
      "For leaf: 1 and depth: 6 accuracy is: 0.899\n",
      "For leaf: 1 and depth: 6 accuracy is: 0.787\n",
      "Difference is: 0.11199999999999999\n",
      "For leaf: 1 and depth: 7 accuracy is: 0.929\n",
      "For leaf: 1 and depth: 7 accuracy is: 0.787\n",
      "Difference is: 0.14200000000000002\n",
      "For leaf: 1 and depth: 8 accuracy is: 0.949\n",
      "For leaf: 1 and depth: 8 accuracy is: 0.792\n",
      "Difference is: 0.15699999999999992\n",
      "For leaf: 1 and depth: 9 accuracy is: 0.959\n",
      "For leaf: 1 and depth: 9 accuracy is: 0.781\n",
      "Difference is: 0.17799999999999994\n",
      "For leaf: 1 and depth: 10 accuracy is: 0.972\n",
      "For leaf: 1 and depth: 10 accuracy is: 0.77\n",
      "Difference is: 0.20199999999999996\n",
      "For leaf: 2 and depth: 1 accuracy is: 0.794\n",
      "For leaf: 2 and depth: 1 accuracy is: 0.77\n",
      "Difference is: 0.02400000000000002\n",
      "For leaf: 2 and depth: 2 accuracy is: 0.792\n",
      "For leaf: 2 and depth: 2 accuracy is: 0.775\n",
      "Difference is: 0.017000000000000015\n",
      "For leaf: 2 and depth: 3 accuracy is: 0.809\n",
      "For leaf: 2 and depth: 3 accuracy is: 0.775\n",
      "Difference is: 0.03400000000000003\n",
      "For leaf: 2 and depth: 4 accuracy is: 0.833\n",
      "For leaf: 2 and depth: 4 accuracy is: 0.809\n",
      "Difference is: 0.02399999999999991\n",
      "For leaf: 2 and depth: 5 accuracy is: 0.846\n",
      "For leaf: 2 and depth: 5 accuracy is: 0.798\n",
      "Difference is: 0.04799999999999993\n",
      "For leaf: 2 and depth: 6 accuracy is: 0.88\n",
      "For leaf: 2 and depth: 6 accuracy is: 0.803\n",
      "Difference is: 0.07699999999999996\n",
      "For leaf: 2 and depth: 7 accuracy is: 0.888\n",
      "For leaf: 2 and depth: 7 accuracy is: 0.798\n",
      "Difference is: 0.08999999999999997\n",
      "For leaf: 2 and depth: 8 accuracy is: 0.904\n",
      "For leaf: 2 and depth: 8 accuracy is: 0.798\n",
      "Difference is: 0.10599999999999998\n",
      "For leaf: 2 and depth: 9 accuracy is: 0.908\n",
      "For leaf: 2 and depth: 9 accuracy is: 0.792\n",
      "Difference is: 0.11599999999999999\n",
      "For leaf: 2 and depth: 10 accuracy is: 0.919\n",
      "For leaf: 2 and depth: 10 accuracy is: 0.792\n",
      "Difference is: 0.127\n",
      "For leaf: 3 and depth: 1 accuracy is: 0.794\n",
      "For leaf: 3 and depth: 1 accuracy is: 0.77\n",
      "Difference is: 0.02400000000000002\n",
      "For leaf: 3 and depth: 2 accuracy is: 0.792\n",
      "For leaf: 3 and depth: 2 accuracy is: 0.775\n",
      "Difference is: 0.017000000000000015\n",
      "For leaf: 3 and depth: 3 accuracy is: 0.807\n",
      "For leaf: 3 and depth: 3 accuracy is: 0.775\n",
      "Difference is: 0.03200000000000003\n",
      "For leaf: 3 and depth: 4 accuracy is: 0.828\n",
      "For leaf: 3 and depth: 4 accuracy is: 0.803\n",
      "Difference is: 0.02499999999999991\n",
      "For leaf: 3 and depth: 5 accuracy is: 0.846\n",
      "For leaf: 3 and depth: 5 accuracy is: 0.798\n",
      "Difference is: 0.04799999999999993\n",
      "For leaf: 3 and depth: 6 accuracy is: 0.861\n",
      "For leaf: 3 and depth: 6 accuracy is: 0.803\n",
      "Difference is: 0.05799999999999994\n",
      "For leaf: 3 and depth: 7 accuracy is: 0.865\n",
      "For leaf: 3 and depth: 7 accuracy is: 0.803\n",
      "Difference is: 0.061999999999999944\n",
      "For leaf: 3 and depth: 8 accuracy is: 0.886\n",
      "For leaf: 3 and depth: 8 accuracy is: 0.792\n",
      "Difference is: 0.09399999999999997\n",
      "For leaf: 3 and depth: 9 accuracy is: 0.884\n",
      "For leaf: 3 and depth: 9 accuracy is: 0.792\n",
      "Difference is: 0.09199999999999997\n",
      "For leaf: 3 and depth: 10 accuracy is: 0.884\n",
      "For leaf: 3 and depth: 10 accuracy is: 0.798\n",
      "Difference is: 0.08599999999999997\n",
      "For leaf: 4 and depth: 1 accuracy is: 0.794\n",
      "For leaf: 4 and depth: 1 accuracy is: 0.77\n",
      "Difference is: 0.02400000000000002\n",
      "For leaf: 4 and depth: 2 accuracy is: 0.792\n",
      "For leaf: 4 and depth: 2 accuracy is: 0.775\n",
      "Difference is: 0.017000000000000015\n",
      "For leaf: 4 and depth: 3 accuracy is: 0.809\n",
      "For leaf: 4 and depth: 3 accuracy is: 0.781\n",
      "Difference is: 0.028000000000000025\n",
      "For leaf: 4 and depth: 4 accuracy is: 0.828\n",
      "For leaf: 4 and depth: 4 accuracy is: 0.809\n",
      "Difference is: 0.018999999999999906\n",
      "For leaf: 4 and depth: 5 accuracy is: 0.839\n",
      "For leaf: 4 and depth: 5 accuracy is: 0.803\n",
      "Difference is: 0.03599999999999992\n",
      "For leaf: 4 and depth: 6 accuracy is: 0.85\n",
      "For leaf: 4 and depth: 6 accuracy is: 0.798\n",
      "Difference is: 0.051999999999999935\n",
      "For leaf: 4 and depth: 7 accuracy is: 0.858\n",
      "For leaf: 4 and depth: 7 accuracy is: 0.792\n",
      "Difference is: 0.06599999999999995\n",
      "For leaf: 4 and depth: 8 accuracy is: 0.867\n",
      "For leaf: 4 and depth: 8 accuracy is: 0.787\n",
      "Difference is: 0.07999999999999996\n",
      "For leaf: 4 and depth: 9 accuracy is: 0.865\n",
      "For leaf: 4 and depth: 9 accuracy is: 0.798\n",
      "Difference is: 0.06699999999999995\n",
      "For leaf: 4 and depth: 10 accuracy is: 0.863\n",
      "For leaf: 4 and depth: 10 accuracy is: 0.803\n",
      "Difference is: 0.05999999999999994\n",
      "For leaf: 5 and depth: 1 accuracy is: 0.794\n",
      "For leaf: 5 and depth: 1 accuracy is: 0.77\n",
      "Difference is: 0.02400000000000002\n",
      "For leaf: 5 and depth: 2 accuracy is: 0.792\n",
      "For leaf: 5 and depth: 2 accuracy is: 0.775\n",
      "Difference is: 0.017000000000000015\n",
      "For leaf: 5 and depth: 3 accuracy is: 0.807\n",
      "For leaf: 5 and depth: 3 accuracy is: 0.775\n",
      "Difference is: 0.03200000000000003\n",
      "For leaf: 5 and depth: 4 accuracy is: 0.822\n",
      "For leaf: 5 and depth: 4 accuracy is: 0.809\n",
      "Difference is: 0.0129999999999999\n",
      "For leaf: 5 and depth: 5 accuracy is: 0.843\n",
      "For leaf: 5 and depth: 5 accuracy is: 0.798\n",
      "Difference is: 0.04499999999999993\n",
      "For leaf: 5 and depth: 6 accuracy is: 0.845\n",
      "For leaf: 5 and depth: 6 accuracy is: 0.798\n",
      "Difference is: 0.04699999999999993\n",
      "For leaf: 5 and depth: 7 accuracy is: 0.854\n",
      "For leaf: 5 and depth: 7 accuracy is: 0.798\n",
      "Difference is: 0.05599999999999994\n",
      "For leaf: 5 and depth: 8 accuracy is: 0.852\n",
      "For leaf: 5 and depth: 8 accuracy is: 0.803\n",
      "Difference is: 0.04899999999999993\n",
      "For leaf: 5 and depth: 9 accuracy is: 0.86\n",
      "For leaf: 5 and depth: 9 accuracy is: 0.815\n",
      "Difference is: 0.04500000000000004\n",
      "For leaf: 5 and depth: 10 accuracy is: 0.861\n",
      "For leaf: 5 and depth: 10 accuracy is: 0.809\n",
      "Difference is: 0.051999999999999935\n",
      "For leaf: 6 and depth: 1 accuracy is: 0.794\n",
      "For leaf: 6 and depth: 1 accuracy is: 0.77\n",
      "Difference is: 0.02400000000000002\n",
      "For leaf: 6 and depth: 2 accuracy is: 0.792\n",
      "For leaf: 6 and depth: 2 accuracy is: 0.775\n",
      "Difference is: 0.017000000000000015\n",
      "For leaf: 6 and depth: 3 accuracy is: 0.807\n",
      "For leaf: 6 and depth: 3 accuracy is: 0.775\n",
      "Difference is: 0.03200000000000003\n",
      "For leaf: 6 and depth: 4 accuracy is: 0.824\n",
      "For leaf: 6 and depth: 4 accuracy is: 0.815\n",
      "Difference is: 0.009000000000000008\n",
      "For leaf: 6 and depth: 5 accuracy is: 0.839\n",
      "For leaf: 6 and depth: 5 accuracy is: 0.803\n",
      "Difference is: 0.03599999999999992\n",
      "For leaf: 6 and depth: 6 accuracy is: 0.839\n",
      "For leaf: 6 and depth: 6 accuracy is: 0.803\n",
      "Difference is: 0.03599999999999992\n",
      "For leaf: 6 and depth: 7 accuracy is: 0.846\n",
      "For leaf: 6 and depth: 7 accuracy is: 0.798\n",
      "Difference is: 0.04799999999999993\n",
      "For leaf: 6 and depth: 8 accuracy is: 0.848\n",
      "For leaf: 6 and depth: 8 accuracy is: 0.809\n",
      "Difference is: 0.038999999999999924\n",
      "For leaf: 6 and depth: 9 accuracy is: 0.846\n",
      "For leaf: 6 and depth: 9 accuracy is: 0.803\n",
      "Difference is: 0.04299999999999993\n",
      "For leaf: 6 and depth: 10 accuracy is: 0.848\n",
      "For leaf: 6 and depth: 10 accuracy is: 0.803\n",
      "Difference is: 0.04499999999999993\n",
      "For leaf: 7 and depth: 1 accuracy is: 0.794\n",
      "For leaf: 7 and depth: 1 accuracy is: 0.77\n",
      "Difference is: 0.02400000000000002\n",
      "For leaf: 7 and depth: 2 accuracy is: 0.792\n",
      "For leaf: 7 and depth: 2 accuracy is: 0.775\n",
      "Difference is: 0.017000000000000015\n",
      "For leaf: 7 and depth: 3 accuracy is: 0.809\n",
      "For leaf: 7 and depth: 3 accuracy is: 0.775\n",
      "Difference is: 0.03400000000000003\n",
      "For leaf: 7 and depth: 4 accuracy is: 0.824\n",
      "For leaf: 7 and depth: 4 accuracy is: 0.803\n",
      "Difference is: 0.020999999999999908\n",
      "For leaf: 7 and depth: 5 accuracy is: 0.835\n",
      "For leaf: 7 and depth: 5 accuracy is: 0.803\n",
      "Difference is: 0.03199999999999992\n",
      "For leaf: 7 and depth: 6 accuracy is: 0.835\n",
      "For leaf: 7 and depth: 6 accuracy is: 0.803\n",
      "Difference is: 0.03199999999999992\n",
      "For leaf: 7 and depth: 7 accuracy is: 0.831\n",
      "For leaf: 7 and depth: 7 accuracy is: 0.803\n"
     ]
    },
    {
     "name": "stdout",
     "output_type": "stream",
     "text": [
      "Difference is: 0.027999999999999914\n",
      "For leaf: 7 and depth: 8 accuracy is: 0.835\n",
      "For leaf: 7 and depth: 8 accuracy is: 0.803\n",
      "Difference is: 0.03199999999999992\n",
      "For leaf: 7 and depth: 9 accuracy is: 0.837\n",
      "For leaf: 7 and depth: 9 accuracy is: 0.809\n",
      "Difference is: 0.027999999999999914\n",
      "For leaf: 7 and depth: 10 accuracy is: 0.837\n",
      "For leaf: 7 and depth: 10 accuracy is: 0.803\n",
      "Difference is: 0.03399999999999992\n",
      "For leaf: 8 and depth: 1 accuracy is: 0.794\n",
      "For leaf: 8 and depth: 1 accuracy is: 0.77\n",
      "Difference is: 0.02400000000000002\n",
      "For leaf: 8 and depth: 2 accuracy is: 0.792\n",
      "For leaf: 8 and depth: 2 accuracy is: 0.775\n",
      "Difference is: 0.017000000000000015\n",
      "For leaf: 8 and depth: 3 accuracy is: 0.805\n",
      "For leaf: 8 and depth: 3 accuracy is: 0.775\n",
      "Difference is: 0.030000000000000027\n",
      "For leaf: 8 and depth: 4 accuracy is: 0.822\n",
      "For leaf: 8 and depth: 4 accuracy is: 0.798\n",
      "Difference is: 0.02399999999999991\n",
      "For leaf: 8 and depth: 5 accuracy is: 0.841\n",
      "For leaf: 8 and depth: 5 accuracy is: 0.809\n",
      "Difference is: 0.03199999999999992\n",
      "For leaf: 8 and depth: 6 accuracy is: 0.837\n",
      "For leaf: 8 and depth: 6 accuracy is: 0.792\n",
      "Difference is: 0.04499999999999993\n",
      "For leaf: 8 and depth: 7 accuracy is: 0.839\n",
      "For leaf: 8 and depth: 7 accuracy is: 0.798\n",
      "Difference is: 0.040999999999999925\n",
      "For leaf: 8 and depth: 8 accuracy is: 0.837\n",
      "For leaf: 8 and depth: 8 accuracy is: 0.803\n",
      "Difference is: 0.03399999999999992\n",
      "For leaf: 8 and depth: 9 accuracy is: 0.843\n",
      "For leaf: 8 and depth: 9 accuracy is: 0.798\n",
      "Difference is: 0.04499999999999993\n",
      "For leaf: 8 and depth: 10 accuracy is: 0.841\n",
      "For leaf: 8 and depth: 10 accuracy is: 0.803\n",
      "Difference is: 0.03799999999999992\n",
      "For leaf: 9 and depth: 1 accuracy is: 0.794\n",
      "For leaf: 9 and depth: 1 accuracy is: 0.77\n",
      "Difference is: 0.02400000000000002\n",
      "For leaf: 9 and depth: 2 accuracy is: 0.792\n",
      "For leaf: 9 and depth: 2 accuracy is: 0.775\n",
      "Difference is: 0.017000000000000015\n",
      "For leaf: 9 and depth: 3 accuracy is: 0.805\n",
      "For leaf: 9 and depth: 3 accuracy is: 0.775\n",
      "Difference is: 0.030000000000000027\n",
      "For leaf: 9 and depth: 4 accuracy is: 0.826\n",
      "For leaf: 9 and depth: 4 accuracy is: 0.792\n",
      "Difference is: 0.03399999999999992\n",
      "For leaf: 9 and depth: 5 accuracy is: 0.826\n",
      "For leaf: 9 and depth: 5 accuracy is: 0.809\n",
      "Difference is: 0.016999999999999904\n",
      "For leaf: 9 and depth: 6 accuracy is: 0.837\n",
      "For leaf: 9 and depth: 6 accuracy is: 0.803\n",
      "Difference is: 0.03399999999999992\n",
      "For leaf: 9 and depth: 7 accuracy is: 0.83\n",
      "For leaf: 9 and depth: 7 accuracy is: 0.809\n",
      "Difference is: 0.020999999999999908\n",
      "For leaf: 9 and depth: 8 accuracy is: 0.835\n",
      "For leaf: 9 and depth: 8 accuracy is: 0.803\n",
      "Difference is: 0.03199999999999992\n",
      "For leaf: 9 and depth: 9 accuracy is: 0.833\n",
      "For leaf: 9 and depth: 9 accuracy is: 0.798\n",
      "Difference is: 0.03499999999999992\n",
      "For leaf: 9 and depth: 10 accuracy is: 0.835\n",
      "For leaf: 9 and depth: 10 accuracy is: 0.798\n",
      "Difference is: 0.03699999999999992\n",
      "For leaf: 10 and depth: 1 accuracy is: 0.794\n",
      "For leaf: 10 and depth: 1 accuracy is: 0.77\n",
      "Difference is: 0.02400000000000002\n",
      "For leaf: 10 and depth: 2 accuracy is: 0.792\n",
      "For leaf: 10 and depth: 2 accuracy is: 0.775\n",
      "Difference is: 0.017000000000000015\n",
      "For leaf: 10 and depth: 3 accuracy is: 0.805\n",
      "For leaf: 10 and depth: 3 accuracy is: 0.775\n",
      "Difference is: 0.030000000000000027\n",
      "For leaf: 10 and depth: 4 accuracy is: 0.824\n",
      "For leaf: 10 and depth: 4 accuracy is: 0.798\n",
      "Difference is: 0.025999999999999912\n",
      "For leaf: 10 and depth: 5 accuracy is: 0.828\n",
      "For leaf: 10 and depth: 5 accuracy is: 0.792\n",
      "Difference is: 0.03599999999999992\n",
      "For leaf: 10 and depth: 6 accuracy is: 0.826\n",
      "For leaf: 10 and depth: 6 accuracy is: 0.787\n",
      "Difference is: 0.038999999999999924\n",
      "For leaf: 10 and depth: 7 accuracy is: 0.83\n",
      "For leaf: 10 and depth: 7 accuracy is: 0.798\n",
      "Difference is: 0.03199999999999992\n",
      "For leaf: 10 and depth: 8 accuracy is: 0.83\n",
      "For leaf: 10 and depth: 8 accuracy is: 0.798\n",
      "Difference is: 0.03199999999999992\n",
      "For leaf: 10 and depth: 9 accuracy is: 0.828\n",
      "For leaf: 10 and depth: 9 accuracy is: 0.792\n",
      "Difference is: 0.03599999999999992\n",
      "For leaf: 10 and depth: 10 accuracy is: 0.828\n",
      "For leaf: 10 and depth: 10 accuracy is: 0.792\n",
      "Difference is: 0.03599999999999992\n"
     ]
    }
   ],
   "source": [
    "for leaf in range(1,11):\n",
    "    for depth in range(1,11):\n",
    "        print(f\"For leaf: {leaf} and depth: {depth} accuracy is: {forest_train(leaf, depth)}\")\n",
    "        print(f\"For leaf: {leaf} and depth: {depth} accuracy is: {forest_validate(leaf, depth)}\")\n",
    "        print(f\"Difference is: {forest_train(leaf, depth) - forest_validate(leaf, depth)}\")"
   ]
  },
  {
   "cell_type": "code",
   "execution_count": null,
   "id": "065f7941",
   "metadata": {},
   "outputs": [],
   "source": []
  }
 ],
 "metadata": {
  "kernelspec": {
   "display_name": "Python 3",
   "language": "python",
   "name": "python3"
  },
  "language_info": {
   "codemirror_mode": {
    "name": "ipython",
    "version": 3
   },
   "file_extension": ".py",
   "mimetype": "text/x-python",
   "name": "python",
   "nbconvert_exporter": "python",
   "pygments_lexer": "ipython3",
   "version": "3.8.8"
  }
 },
 "nbformat": 4,
 "nbformat_minor": 5
}
